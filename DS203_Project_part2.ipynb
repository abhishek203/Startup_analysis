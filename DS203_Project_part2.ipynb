{
  "nbformat": 4,
  "nbformat_minor": 0,
  "metadata": {
    "colab": {
      "name": "DS203 Project part2.ipynb",
      "provenance": []
    },
    "kernelspec": {
      "name": "python3",
      "display_name": "Python 3"
    }
  },
  "cells": [
    {
      "cell_type": "code",
      "metadata": {
        "colab": {
          "base_uri": "https://localhost:8080/"
        },
        "id": "6C2E9lqkVDnO",
        "outputId": "a91661fd-bfd2-4b41-ce90-d38a88c7344e"
      },
      "source": [
        "from google.colab import drive\n",
        "drive.mount('/content/drive')"
      ],
      "execution_count": null,
      "outputs": [
        {
          "output_type": "stream",
          "text": [
            "Drive already mounted at /content/drive; to attempt to forcibly remount, call drive.mount(\"/content/drive\", force_remount=True).\n"
          ],
          "name": "stdout"
        }
      ]
    },
    {
      "cell_type": "code",
      "metadata": {
        "id": "RtBgcMdV-yc6"
      },
      "source": [
        "import numpy as np\n",
        "import pandas as pd\n",
        "import matplotlib.pyplot as plt\n",
        "import seaborn as sns\n",
        "from io import StringIO\n",
        "from sklearn.ensemble import RandomForestRegressor\n",
        "from sklearn import preprocessing\n",
        "from sklearn.metrics import mean_absolute_error\n",
        "from sklearn.model_selection import train_test_split"
      ],
      "execution_count": null,
      "outputs": []
    },
    {
      "cell_type": "markdown",
      "metadata": {
        "id": "VhavxGG1haEa"
      },
      "source": [
        "# Some Exploratory Analysis"
      ]
    },
    {
      "cell_type": "code",
      "metadata": {
        "colab": {
          "base_uri": "https://localhost:8080/",
          "height": 587
        },
        "id": "LB0wprz9_TIy",
        "outputId": "c80049e7-0681-40e6-be40-cc59a3b6c831"
      },
      "source": [
        "objects = pd.read_csv(\"/content/drive/MyDrive/Startup investments/objects.csv\")\n",
        "objects.head()"
      ],
      "execution_count": null,
      "outputs": [
        {
          "output_type": "stream",
          "text": [
            "/usr/local/lib/python3.6/dist-packages/IPython/core/interactiveshell.py:2718: DtypeWarning: Columns (3,7,9,10,17,18,21,22,23,25,26,29,30,37) have mixed types.Specify dtype option on import or set low_memory=False.\n",
            "  interactivity=interactivity, compiler=compiler, result=result)\n"
          ],
          "name": "stderr"
        },
        {
          "output_type": "execute_result",
          "data": {
            "text/html": [
              "<div>\n",
              "<style scoped>\n",
              "    .dataframe tbody tr th:only-of-type {\n",
              "        vertical-align: middle;\n",
              "    }\n",
              "\n",
              "    .dataframe tbody tr th {\n",
              "        vertical-align: top;\n",
              "    }\n",
              "\n",
              "    .dataframe thead th {\n",
              "        text-align: right;\n",
              "    }\n",
              "</style>\n",
              "<table border=\"1\" class=\"dataframe\">\n",
              "  <thead>\n",
              "    <tr style=\"text-align: right;\">\n",
              "      <th></th>\n",
              "      <th>id</th>\n",
              "      <th>entity_type</th>\n",
              "      <th>entity_id</th>\n",
              "      <th>parent_id</th>\n",
              "      <th>name</th>\n",
              "      <th>normalized_name</th>\n",
              "      <th>permalink</th>\n",
              "      <th>category_code</th>\n",
              "      <th>status</th>\n",
              "      <th>founded_at</th>\n",
              "      <th>closed_at</th>\n",
              "      <th>domain</th>\n",
              "      <th>homepage_url</th>\n",
              "      <th>twitter_username</th>\n",
              "      <th>logo_url</th>\n",
              "      <th>logo_width</th>\n",
              "      <th>logo_height</th>\n",
              "      <th>short_description</th>\n",
              "      <th>description</th>\n",
              "      <th>overview</th>\n",
              "      <th>tag_list</th>\n",
              "      <th>country_code</th>\n",
              "      <th>state_code</th>\n",
              "      <th>city</th>\n",
              "      <th>region</th>\n",
              "      <th>first_investment_at</th>\n",
              "      <th>last_investment_at</th>\n",
              "      <th>investment_rounds</th>\n",
              "      <th>invested_companies</th>\n",
              "      <th>first_funding_at</th>\n",
              "      <th>last_funding_at</th>\n",
              "      <th>funding_rounds</th>\n",
              "      <th>funding_total_usd</th>\n",
              "      <th>first_milestone_at</th>\n",
              "      <th>last_milestone_at</th>\n",
              "      <th>milestones</th>\n",
              "      <th>relationships</th>\n",
              "      <th>created_by</th>\n",
              "      <th>created_at</th>\n",
              "      <th>updated_at</th>\n",
              "    </tr>\n",
              "  </thead>\n",
              "  <tbody>\n",
              "    <tr>\n",
              "      <th>0</th>\n",
              "      <td>c:1</td>\n",
              "      <td>Company</td>\n",
              "      <td>1</td>\n",
              "      <td>NaN</td>\n",
              "      <td>Wetpaint</td>\n",
              "      <td>wetpaint</td>\n",
              "      <td>/company/wetpaint</td>\n",
              "      <td>web</td>\n",
              "      <td>operating</td>\n",
              "      <td>2005-10-17</td>\n",
              "      <td>NaN</td>\n",
              "      <td>wetpaint-inc.com</td>\n",
              "      <td>http://wetpaint-inc.com</td>\n",
              "      <td>BachelrWetpaint</td>\n",
              "      <td>http://s3.amazonaws.com/crunchbase_prod_assets...</td>\n",
              "      <td>401</td>\n",
              "      <td>54</td>\n",
              "      <td>NaN</td>\n",
              "      <td>Technology Platform Company</td>\n",
              "      <td>Wetpaint is a technology platform company that...</td>\n",
              "      <td>wiki, seattle, elowitz, media-industry, media-...</td>\n",
              "      <td>USA</td>\n",
              "      <td>WA</td>\n",
              "      <td>Seattle</td>\n",
              "      <td>Seattle</td>\n",
              "      <td>NaN</td>\n",
              "      <td>NaN</td>\n",
              "      <td>0</td>\n",
              "      <td>0</td>\n",
              "      <td>2005-10-01</td>\n",
              "      <td>2008-05-19</td>\n",
              "      <td>3</td>\n",
              "      <td>39750000.0</td>\n",
              "      <td>2010-09-05</td>\n",
              "      <td>2013-09-18</td>\n",
              "      <td>5</td>\n",
              "      <td>17</td>\n",
              "      <td>initial-importer</td>\n",
              "      <td>2007-05-25 06:51:27</td>\n",
              "      <td>2013-04-13 03:29:00</td>\n",
              "    </tr>\n",
              "    <tr>\n",
              "      <th>1</th>\n",
              "      <td>c:10</td>\n",
              "      <td>Company</td>\n",
              "      <td>10</td>\n",
              "      <td>NaN</td>\n",
              "      <td>Flektor</td>\n",
              "      <td>flektor</td>\n",
              "      <td>/company/flektor</td>\n",
              "      <td>games_video</td>\n",
              "      <td>acquired</td>\n",
              "      <td>NaN</td>\n",
              "      <td>NaN</td>\n",
              "      <td>flektor.com</td>\n",
              "      <td>http://www.flektor.com</td>\n",
              "      <td>NaN</td>\n",
              "      <td>http://s3.amazonaws.com/crunchbase_prod_assets...</td>\n",
              "      <td>186</td>\n",
              "      <td>85</td>\n",
              "      <td>NaN</td>\n",
              "      <td>NaN</td>\n",
              "      <td>Flektor is a rich-media mash-up platform that ...</td>\n",
              "      <td>flektor, photo, video</td>\n",
              "      <td>USA</td>\n",
              "      <td>CA</td>\n",
              "      <td>Culver City</td>\n",
              "      <td>Los Angeles</td>\n",
              "      <td>NaN</td>\n",
              "      <td>NaN</td>\n",
              "      <td>0</td>\n",
              "      <td>0</td>\n",
              "      <td>NaN</td>\n",
              "      <td>NaN</td>\n",
              "      <td>0</td>\n",
              "      <td>0.0</td>\n",
              "      <td>NaN</td>\n",
              "      <td>NaN</td>\n",
              "      <td>0</td>\n",
              "      <td>6</td>\n",
              "      <td>initial-importer</td>\n",
              "      <td>2007-05-31 21:11:51</td>\n",
              "      <td>2008-05-23 23:23:14</td>\n",
              "    </tr>\n",
              "    <tr>\n",
              "      <th>2</th>\n",
              "      <td>c:100</td>\n",
              "      <td>Company</td>\n",
              "      <td>100</td>\n",
              "      <td>NaN</td>\n",
              "      <td>There</td>\n",
              "      <td>there</td>\n",
              "      <td>/company/there</td>\n",
              "      <td>games_video</td>\n",
              "      <td>acquired</td>\n",
              "      <td>NaN</td>\n",
              "      <td>NaN</td>\n",
              "      <td>there.com</td>\n",
              "      <td>http://www.there.com</td>\n",
              "      <td>NaN</td>\n",
              "      <td>http://s3.amazonaws.com/crunchbase_prod_assets...</td>\n",
              "      <td>107</td>\n",
              "      <td>34</td>\n",
              "      <td>NaN</td>\n",
              "      <td>NaN</td>\n",
              "      <td>There.com is an online virtual world where any...</td>\n",
              "      <td>virtualworld, there, teens</td>\n",
              "      <td>USA</td>\n",
              "      <td>CA</td>\n",
              "      <td>San Mateo</td>\n",
              "      <td>SF Bay</td>\n",
              "      <td>NaN</td>\n",
              "      <td>NaN</td>\n",
              "      <td>0</td>\n",
              "      <td>0</td>\n",
              "      <td>NaN</td>\n",
              "      <td>NaN</td>\n",
              "      <td>0</td>\n",
              "      <td>0.0</td>\n",
              "      <td>2003-02-01</td>\n",
              "      <td>2011-09-23</td>\n",
              "      <td>4</td>\n",
              "      <td>12</td>\n",
              "      <td>initial-importer</td>\n",
              "      <td>2007-08-06 23:52:45</td>\n",
              "      <td>2013-11-04 02:09:48</td>\n",
              "    </tr>\n",
              "    <tr>\n",
              "      <th>3</th>\n",
              "      <td>c:10000</td>\n",
              "      <td>Company</td>\n",
              "      <td>10000</td>\n",
              "      <td>NaN</td>\n",
              "      <td>MYWEBBO</td>\n",
              "      <td>mywebbo</td>\n",
              "      <td>/company/mywebbo</td>\n",
              "      <td>network_hosting</td>\n",
              "      <td>operating</td>\n",
              "      <td>2008-07-26</td>\n",
              "      <td>NaN</td>\n",
              "      <td>mywebbo.com</td>\n",
              "      <td>http://www.mywebbo.com</td>\n",
              "      <td>NaN</td>\n",
              "      <td>NaN</td>\n",
              "      <td>0</td>\n",
              "      <td>0</td>\n",
              "      <td>NaN</td>\n",
              "      <td>NaN</td>\n",
              "      <td>BRAND NEW ONLINE SOCIAL NETWORKING WEBSITE,FOR...</td>\n",
              "      <td>social-network, new, website, web, friends, ch...</td>\n",
              "      <td>NaN</td>\n",
              "      <td>NaN</td>\n",
              "      <td>NaN</td>\n",
              "      <td>unknown</td>\n",
              "      <td>NaN</td>\n",
              "      <td>NaN</td>\n",
              "      <td>0</td>\n",
              "      <td>0</td>\n",
              "      <td>NaN</td>\n",
              "      <td>NaN</td>\n",
              "      <td>0</td>\n",
              "      <td>0.0</td>\n",
              "      <td>NaN</td>\n",
              "      <td>NaN</td>\n",
              "      <td>0</td>\n",
              "      <td>0</td>\n",
              "      <td>NaN</td>\n",
              "      <td>2008-08-24 16:51:57</td>\n",
              "      <td>2008-09-06 14:19:18</td>\n",
              "    </tr>\n",
              "    <tr>\n",
              "      <th>4</th>\n",
              "      <td>c:10001</td>\n",
              "      <td>Company</td>\n",
              "      <td>10001</td>\n",
              "      <td>NaN</td>\n",
              "      <td>THE Movie Streamer</td>\n",
              "      <td>the movie streamer</td>\n",
              "      <td>/company/the-movie-streamer</td>\n",
              "      <td>games_video</td>\n",
              "      <td>operating</td>\n",
              "      <td>2008-07-26</td>\n",
              "      <td>NaN</td>\n",
              "      <td>themoviestreamer.com</td>\n",
              "      <td>http://themoviestreamer.com</td>\n",
              "      <td>NaN</td>\n",
              "      <td>http://s3.amazonaws.com/crunchbase_prod_assets...</td>\n",
              "      <td>200</td>\n",
              "      <td>74</td>\n",
              "      <td>NaN</td>\n",
              "      <td>NaN</td>\n",
              "      <td>This company shows free movies online on their...</td>\n",
              "      <td>watch, full-length, moives, online, for, free,...</td>\n",
              "      <td>NaN</td>\n",
              "      <td>NaN</td>\n",
              "      <td>NaN</td>\n",
              "      <td>unknown</td>\n",
              "      <td>NaN</td>\n",
              "      <td>NaN</td>\n",
              "      <td>0</td>\n",
              "      <td>0</td>\n",
              "      <td>NaN</td>\n",
              "      <td>NaN</td>\n",
              "      <td>0</td>\n",
              "      <td>0.0</td>\n",
              "      <td>NaN</td>\n",
              "      <td>NaN</td>\n",
              "      <td>0</td>\n",
              "      <td>0</td>\n",
              "      <td>NaN</td>\n",
              "      <td>2008-08-24 17:10:34</td>\n",
              "      <td>2008-09-06 14:19:18</td>\n",
              "    </tr>\n",
              "  </tbody>\n",
              "</table>\n",
              "</div>"
            ],
            "text/plain": [
              "        id entity_type  ...           created_at           updated_at\n",
              "0      c:1     Company  ...  2007-05-25 06:51:27  2013-04-13 03:29:00\n",
              "1     c:10     Company  ...  2007-05-31 21:11:51  2008-05-23 23:23:14\n",
              "2    c:100     Company  ...  2007-08-06 23:52:45  2013-11-04 02:09:48\n",
              "3  c:10000     Company  ...  2008-08-24 16:51:57  2008-09-06 14:19:18\n",
              "4  c:10001     Company  ...  2008-08-24 17:10:34  2008-09-06 14:19:18\n",
              "\n",
              "[5 rows x 40 columns]"
            ]
          },
          "metadata": {
            "tags": []
          },
          "execution_count": 85
        }
      ]
    },
    {
      "cell_type": "code",
      "metadata": {
        "colab": {
          "base_uri": "https://localhost:8080/"
        },
        "id": "O72TWnVe_-Il",
        "outputId": "49ab31c0-7eee-4e90-adda-423e818ada45"
      },
      "source": [
        "objects.info()"
      ],
      "execution_count": null,
      "outputs": [
        {
          "output_type": "stream",
          "text": [
            "<class 'pandas.core.frame.DataFrame'>\n",
            "RangeIndex: 462651 entries, 0 to 462650\n",
            "Data columns (total 40 columns):\n",
            " #   Column               Non-Null Count   Dtype  \n",
            "---  ------               --------------   -----  \n",
            " 0   id                   462651 non-null  object \n",
            " 1   entity_type          462651 non-null  object \n",
            " 2   entity_id            462651 non-null  int64  \n",
            " 3   parent_id            27715 non-null   object \n",
            " 4   name                 462649 non-null  object \n",
            " 5   normalized_name      462620 non-null  object \n",
            " 6   permalink            462651 non-null  object \n",
            " 7   category_code        123186 non-null  object \n",
            " 8   status               462651 non-null  object \n",
            " 9   founded_at           100441 non-null  object \n",
            " 10  closed_at            2809 non-null    object \n",
            " 11  domain               174942 non-null  object \n",
            " 12  homepage_url         174942 non-null  object \n",
            " 13  twitter_username     126089 non-null  object \n",
            " 14  logo_url             208850 non-null  object \n",
            " 15  logo_width           462651 non-null  int64  \n",
            " 16  logo_height          462651 non-null  int64  \n",
            " 17  short_description    7617 non-null    object \n",
            " 18  description          95005 non-null   object \n",
            " 19  overview             235235 non-null  object \n",
            " 20  tag_list             106496 non-null  object \n",
            " 21  country_code         95043 non-null   object \n",
            " 22  state_code           54760 non-null   object \n",
            " 23  city                 90684 non-null   object \n",
            " 24  region               462651 non-null  object \n",
            " 25  first_investment_at  16956 non-null   object \n",
            " 26  last_investment_at   16956 non-null   object \n",
            " 27  investment_rounds    462651 non-null  int64  \n",
            " 28  invested_companies   462651 non-null  int64  \n",
            " 29  first_funding_at     31507 non-null   object \n",
            " 30  last_funding_at      31507 non-null   object \n",
            " 31  funding_rounds       462651 non-null  int64  \n",
            " 32  funding_total_usd    462651 non-null  float64\n",
            " 33  first_milestone_at   100358 non-null  object \n",
            " 34  last_milestone_at    100358 non-null  object \n",
            " 35  milestones           462651 non-null  int64  \n",
            " 36  relationships        462651 non-null  int64  \n",
            " 37  created_by           339486 non-null  object \n",
            " 38  created_at           462591 non-null  object \n",
            " 39  updated_at           462651 non-null  object \n",
            "dtypes: float64(1), int64(8), object(31)\n",
            "memory usage: 141.2+ MB\n"
          ],
          "name": "stdout"
        }
      ]
    },
    {
      "cell_type": "code",
      "metadata": {
        "colab": {
          "base_uri": "https://localhost:8080/"
        },
        "id": "IZdtizhjAx4S",
        "outputId": "c71deac0-972d-4063-d84d-830f0e11bc52"
      },
      "source": [
        "objects.drop([\"created_at\",\"updated_at\", \"logo_url\", \"logo_width\",\"overview\", \"entity_id\",\"parent_id\",\"normalized_name\", \"logo_height\",\"short_description\", \"created_at\", \"updated_at\", \"twitter_username\",\"relationships\", \"domain\", \"homepage_url\", \"overview\", \"tag_list\",\"city\", \"region\", \"state_code\"], axis=\"columns\", inplace=True)\n",
        "objects.info()"
      ],
      "execution_count": null,
      "outputs": [
        {
          "output_type": "stream",
          "text": [
            "<class 'pandas.core.frame.DataFrame'>\n",
            "RangeIndex: 462651 entries, 0 to 462650\n",
            "Data columns (total 22 columns):\n",
            " #   Column               Non-Null Count   Dtype  \n",
            "---  ------               --------------   -----  \n",
            " 0   id                   462651 non-null  object \n",
            " 1   entity_type          462651 non-null  object \n",
            " 2   name                 462649 non-null  object \n",
            " 3   permalink            462651 non-null  object \n",
            " 4   category_code        123186 non-null  object \n",
            " 5   status               462651 non-null  object \n",
            " 6   founded_at           100441 non-null  object \n",
            " 7   closed_at            2809 non-null    object \n",
            " 8   description          95005 non-null   object \n",
            " 9   country_code         95043 non-null   object \n",
            " 10  first_investment_at  16956 non-null   object \n",
            " 11  last_investment_at   16956 non-null   object \n",
            " 12  investment_rounds    462651 non-null  int64  \n",
            " 13  invested_companies   462651 non-null  int64  \n",
            " 14  first_funding_at     31507 non-null   object \n",
            " 15  last_funding_at      31507 non-null   object \n",
            " 16  funding_rounds       462651 non-null  int64  \n",
            " 17  funding_total_usd    462651 non-null  float64\n",
            " 18  first_milestone_at   100358 non-null  object \n",
            " 19  last_milestone_at    100358 non-null  object \n",
            " 20  milestones           462651 non-null  int64  \n",
            " 21  created_by           339486 non-null  object \n",
            "dtypes: float64(1), int64(4), object(17)\n",
            "memory usage: 77.7+ MB\n"
          ],
          "name": "stdout"
        }
      ]
    },
    {
      "cell_type": "code",
      "metadata": {
        "colab": {
          "base_uri": "https://localhost:8080/",
          "height": 736
        },
        "id": "MUdFbShUFJEn",
        "outputId": "a4d677a3-f855-41bc-cdd4-67fe5c9e2cc4"
      },
      "source": [
        "\n",
        "for col in ['entity_type', 'status']:\n",
        "  if(len(pd.unique(objects[col]))>20):\n",
        "    plt.figure(figsize=(20,8))\n",
        "    plt.hist(objects[col], bins=len(pd.unique(objects[col])))\n",
        "    plt.xticks(rotation=90)\n",
        "  else :\n",
        "    plt.figure(figsize=(10,5))\n",
        "    plt.hist(objects[col])\n",
        "    plt.xticks(rotation=45)\n",
        "    \n",
        "  plt.xlabel(col)\n",
        "  plt.show() "
      ],
      "execution_count": null,
      "outputs": [
        {
          "output_type": "display_data",
          "data": {
            "image/png": "[encoded data removed]",
            "text/plain": [
              "<Figure size 720x360 with 1 Axes>"
            ]
          },
          "metadata": {
            "tags": [],
            "needs_background": "light"
          }
        },
        {
          "output_type": "display_data",
          "data": {
            "image/png": "[encoded data removed]",
            "text/plain": [
              "<Figure size 720x360 with 1 Axes>"
            ]
          },
          "metadata": {
            "tags": [],
            "needs_background": "light"
          }
        }
      ]
    },
    {
      "cell_type": "code",
      "metadata": {
        "colab": {
          "base_uri": "https://localhost:8080/",
          "height": 194
        },
        "id": "8lWgpS0iGPfa",
        "outputId": "f0e02f28-819b-4e58-b78a-bb4ffa4f61c0"
      },
      "source": [
        "investments = pd.read_csv(\"/content/drive/MyDrive/Startup investments/investments.csv\")\n",
        "investments.head()"
      ],
      "execution_count": null,
      "outputs": [
        {
          "output_type": "execute_result",
          "data": {
            "text/html": [
              "<div>\n",
              "<style scoped>\n",
              "    .dataframe tbody tr th:only-of-type {\n",
              "        vertical-align: middle;\n",
              "    }\n",
              "\n",
              "    .dataframe tbody tr th {\n",
              "        vertical-align: top;\n",
              "    }\n",
              "\n",
              "    .dataframe thead th {\n",
              "        text-align: right;\n",
              "    }\n",
              "</style>\n",
              "<table border=\"1\" class=\"dataframe\">\n",
              "  <thead>\n",
              "    <tr style=\"text-align: right;\">\n",
              "      <th></th>\n",
              "      <th>id</th>\n",
              "      <th>funding_round_id</th>\n",
              "      <th>funded_object_id</th>\n",
              "      <th>investor_object_id</th>\n",
              "      <th>created_at</th>\n",
              "      <th>updated_at</th>\n",
              "    </tr>\n",
              "  </thead>\n",
              "  <tbody>\n",
              "    <tr>\n",
              "      <th>0</th>\n",
              "      <td>1</td>\n",
              "      <td>1</td>\n",
              "      <td>c:4</td>\n",
              "      <td>f:1</td>\n",
              "      <td>2007-07-04 04:52:57</td>\n",
              "      <td>2008-02-27 23:14:29</td>\n",
              "    </tr>\n",
              "    <tr>\n",
              "      <th>1</th>\n",
              "      <td>2</td>\n",
              "      <td>1</td>\n",
              "      <td>c:4</td>\n",
              "      <td>f:2</td>\n",
              "      <td>2007-07-04 04:52:57</td>\n",
              "      <td>2008-02-27 23:14:29</td>\n",
              "    </tr>\n",
              "    <tr>\n",
              "      <th>2</th>\n",
              "      <td>3</td>\n",
              "      <td>3</td>\n",
              "      <td>c:5</td>\n",
              "      <td>f:4</td>\n",
              "      <td>2007-05-27 06:09:10</td>\n",
              "      <td>2013-06-28 20:07:23</td>\n",
              "    </tr>\n",
              "    <tr>\n",
              "      <th>3</th>\n",
              "      <td>4</td>\n",
              "      <td>4</td>\n",
              "      <td>c:5</td>\n",
              "      <td>f:1</td>\n",
              "      <td>2007-05-27 06:09:36</td>\n",
              "      <td>2013-06-28 20:07:24</td>\n",
              "    </tr>\n",
              "    <tr>\n",
              "      <th>4</th>\n",
              "      <td>5</td>\n",
              "      <td>4</td>\n",
              "      <td>c:5</td>\n",
              "      <td>f:5</td>\n",
              "      <td>2007-05-27 06:09:36</td>\n",
              "      <td>2013-06-28 20:07:24</td>\n",
              "    </tr>\n",
              "  </tbody>\n",
              "</table>\n",
              "</div>"
            ],
            "text/plain": [
              "   id  funding_round_id  ...           created_at           updated_at\n",
              "0   1                 1  ...  2007-07-04 04:52:57  2008-02-27 23:14:29\n",
              "1   2                 1  ...  2007-07-04 04:52:57  2008-02-27 23:14:29\n",
              "2   3                 3  ...  2007-05-27 06:09:10  2013-06-28 20:07:23\n",
              "3   4                 4  ...  2007-05-27 06:09:36  2013-06-28 20:07:24\n",
              "4   5                 4  ...  2007-05-27 06:09:36  2013-06-28 20:07:24\n",
              "\n",
              "[5 rows x 6 columns]"
            ]
          },
          "metadata": {
            "tags": []
          },
          "execution_count": 89
        }
      ]
    },
    {
      "cell_type": "code",
      "metadata": {
        "colab": {
          "base_uri": "https://localhost:8080/",
          "height": 467
        },
        "id": "RAqJEbCiHgVO",
        "outputId": "b00c2a7a-4071-4e55-f9fc-fe7f1dd02a77"
      },
      "source": [
        "objects.rename(columns={'id':'funded_object_id'}, inplace=True)\n",
        "df = investments.merge(objects, on='funded_object_id')\n",
        "df.head()"
      ],
      "execution_count": null,
      "outputs": [
        {
          "output_type": "execute_result",
          "data": {
            "text/html": [
              "<div>\n",
              "<style scoped>\n",
              "    .dataframe tbody tr th:only-of-type {\n",
              "        vertical-align: middle;\n",
              "    }\n",
              "\n",
              "    .dataframe tbody tr th {\n",
              "        vertical-align: top;\n",
              "    }\n",
              "\n",
              "    .dataframe thead th {\n",
              "        text-align: right;\n",
              "    }\n",
              "</style>\n",
              "<table border=\"1\" class=\"dataframe\">\n",
              "  <thead>\n",
              "    <tr style=\"text-align: right;\">\n",
              "      <th></th>\n",
              "      <th>id</th>\n",
              "      <th>funding_round_id</th>\n",
              "      <th>funded_object_id</th>\n",
              "      <th>investor_object_id</th>\n",
              "      <th>created_at</th>\n",
              "      <th>updated_at</th>\n",
              "      <th>entity_type</th>\n",
              "      <th>name</th>\n",
              "      <th>permalink</th>\n",
              "      <th>category_code</th>\n",
              "      <th>status</th>\n",
              "      <th>founded_at</th>\n",
              "      <th>closed_at</th>\n",
              "      <th>description</th>\n",
              "      <th>country_code</th>\n",
              "      <th>first_investment_at</th>\n",
              "      <th>last_investment_at</th>\n",
              "      <th>investment_rounds</th>\n",
              "      <th>invested_companies</th>\n",
              "      <th>first_funding_at</th>\n",
              "      <th>last_funding_at</th>\n",
              "      <th>funding_rounds</th>\n",
              "      <th>funding_total_usd</th>\n",
              "      <th>first_milestone_at</th>\n",
              "      <th>last_milestone_at</th>\n",
              "      <th>milestones</th>\n",
              "      <th>created_by</th>\n",
              "    </tr>\n",
              "  </thead>\n",
              "  <tbody>\n",
              "    <tr>\n",
              "      <th>0</th>\n",
              "      <td>1</td>\n",
              "      <td>1</td>\n",
              "      <td>c:4</td>\n",
              "      <td>f:1</td>\n",
              "      <td>2007-07-04 04:52:57</td>\n",
              "      <td>2008-02-27 23:14:29</td>\n",
              "      <td>Company</td>\n",
              "      <td>Digg</td>\n",
              "      <td>/company/digg</td>\n",
              "      <td>news</td>\n",
              "      <td>acquired</td>\n",
              "      <td>2004-10-11</td>\n",
              "      <td>NaN</td>\n",
              "      <td>user driven social content website</td>\n",
              "      <td>USA</td>\n",
              "      <td>NaN</td>\n",
              "      <td>NaN</td>\n",
              "      <td>0</td>\n",
              "      <td>0</td>\n",
              "      <td>2005-10-01</td>\n",
              "      <td>2011-07-12</td>\n",
              "      <td>4</td>\n",
              "      <td>45000000.0</td>\n",
              "      <td>2010-01-08</td>\n",
              "      <td>2013-12-04</td>\n",
              "      <td>8</td>\n",
              "      <td>initial-importer</td>\n",
              "    </tr>\n",
              "    <tr>\n",
              "      <th>1</th>\n",
              "      <td>2</td>\n",
              "      <td>1</td>\n",
              "      <td>c:4</td>\n",
              "      <td>f:2</td>\n",
              "      <td>2007-07-04 04:52:57</td>\n",
              "      <td>2008-02-27 23:14:29</td>\n",
              "      <td>Company</td>\n",
              "      <td>Digg</td>\n",
              "      <td>/company/digg</td>\n",
              "      <td>news</td>\n",
              "      <td>acquired</td>\n",
              "      <td>2004-10-11</td>\n",
              "      <td>NaN</td>\n",
              "      <td>user driven social content website</td>\n",
              "      <td>USA</td>\n",
              "      <td>NaN</td>\n",
              "      <td>NaN</td>\n",
              "      <td>0</td>\n",
              "      <td>0</td>\n",
              "      <td>2005-10-01</td>\n",
              "      <td>2011-07-12</td>\n",
              "      <td>4</td>\n",
              "      <td>45000000.0</td>\n",
              "      <td>2010-01-08</td>\n",
              "      <td>2013-12-04</td>\n",
              "      <td>8</td>\n",
              "      <td>initial-importer</td>\n",
              "    </tr>\n",
              "    <tr>\n",
              "      <th>2</th>\n",
              "      <td>144</td>\n",
              "      <td>85</td>\n",
              "      <td>c:4</td>\n",
              "      <td>f:1</td>\n",
              "      <td>2007-07-04 04:56:09</td>\n",
              "      <td>2008-02-27 23:14:29</td>\n",
              "      <td>Company</td>\n",
              "      <td>Digg</td>\n",
              "      <td>/company/digg</td>\n",
              "      <td>news</td>\n",
              "      <td>acquired</td>\n",
              "      <td>2004-10-11</td>\n",
              "      <td>NaN</td>\n",
              "      <td>user driven social content website</td>\n",
              "      <td>USA</td>\n",
              "      <td>NaN</td>\n",
              "      <td>NaN</td>\n",
              "      <td>0</td>\n",
              "      <td>0</td>\n",
              "      <td>2005-10-01</td>\n",
              "      <td>2011-07-12</td>\n",
              "      <td>4</td>\n",
              "      <td>45000000.0</td>\n",
              "      <td>2010-01-08</td>\n",
              "      <td>2013-12-04</td>\n",
              "      <td>8</td>\n",
              "      <td>initial-importer</td>\n",
              "    </tr>\n",
              "    <tr>\n",
              "      <th>3</th>\n",
              "      <td>145</td>\n",
              "      <td>85</td>\n",
              "      <td>c:4</td>\n",
              "      <td>f:2</td>\n",
              "      <td>2007-07-04 04:56:09</td>\n",
              "      <td>2008-02-27 23:14:29</td>\n",
              "      <td>Company</td>\n",
              "      <td>Digg</td>\n",
              "      <td>/company/digg</td>\n",
              "      <td>news</td>\n",
              "      <td>acquired</td>\n",
              "      <td>2004-10-11</td>\n",
              "      <td>NaN</td>\n",
              "      <td>user driven social content website</td>\n",
              "      <td>USA</td>\n",
              "      <td>NaN</td>\n",
              "      <td>NaN</td>\n",
              "      <td>0</td>\n",
              "      <td>0</td>\n",
              "      <td>2005-10-01</td>\n",
              "      <td>2011-07-12</td>\n",
              "      <td>4</td>\n",
              "      <td>45000000.0</td>\n",
              "      <td>2010-01-08</td>\n",
              "      <td>2013-12-04</td>\n",
              "      <td>8</td>\n",
              "      <td>initial-importer</td>\n",
              "    </tr>\n",
              "    <tr>\n",
              "      <th>4</th>\n",
              "      <td>146</td>\n",
              "      <td>85</td>\n",
              "      <td>c:4</td>\n",
              "      <td>f:4850</td>\n",
              "      <td>2007-07-04 04:56:09</td>\n",
              "      <td>2008-02-27 23:14:29</td>\n",
              "      <td>Company</td>\n",
              "      <td>Digg</td>\n",
              "      <td>/company/digg</td>\n",
              "      <td>news</td>\n",
              "      <td>acquired</td>\n",
              "      <td>2004-10-11</td>\n",
              "      <td>NaN</td>\n",
              "      <td>user driven social content website</td>\n",
              "      <td>USA</td>\n",
              "      <td>NaN</td>\n",
              "      <td>NaN</td>\n",
              "      <td>0</td>\n",
              "      <td>0</td>\n",
              "      <td>2005-10-01</td>\n",
              "      <td>2011-07-12</td>\n",
              "      <td>4</td>\n",
              "      <td>45000000.0</td>\n",
              "      <td>2010-01-08</td>\n",
              "      <td>2013-12-04</td>\n",
              "      <td>8</td>\n",
              "      <td>initial-importer</td>\n",
              "    </tr>\n",
              "  </tbody>\n",
              "</table>\n",
              "</div>"
            ],
            "text/plain": [
              "    id  funding_round_id  ... milestones        created_by\n",
              "0    1                 1  ...          8  initial-importer\n",
              "1    2                 1  ...          8  initial-importer\n",
              "2  144                85  ...          8  initial-importer\n",
              "3  145                85  ...          8  initial-importer\n",
              "4  146                85  ...          8  initial-importer\n",
              "\n",
              "[5 rows x 27 columns]"
            ]
          },
          "metadata": {
            "tags": []
          },
          "execution_count": 90
        }
      ]
    },
    {
      "cell_type": "code",
      "metadata": {
        "colab": {
          "base_uri": "https://localhost:8080/"
        },
        "id": "qDVNLeWiHpZ5",
        "outputId": "94094df0-3b50-4ecf-8dca-62b202e60b1d"
      },
      "source": [
        "df.info()"
      ],
      "execution_count": null,
      "outputs": [
        {
          "output_type": "stream",
          "text": [
            "<class 'pandas.core.frame.DataFrame'>\n",
            "Int64Index: 80570 entries, 0 to 80569\n",
            "Data columns (total 27 columns):\n",
            " #   Column               Non-Null Count  Dtype  \n",
            "---  ------               --------------  -----  \n",
            " 0   id                   80570 non-null  int64  \n",
            " 1   funding_round_id     80570 non-null  int64  \n",
            " 2   funded_object_id     80570 non-null  object \n",
            " 3   investor_object_id   80570 non-null  object \n",
            " 4   created_at           80570 non-null  object \n",
            " 5   updated_at           80570 non-null  object \n",
            " 6   entity_type          80570 non-null  object \n",
            " 7   name                 80570 non-null  object \n",
            " 8   permalink            80570 non-null  object \n",
            " 9   category_code        78704 non-null  object \n",
            " 10  status               80570 non-null  object \n",
            " 11  founded_at           68590 non-null  object \n",
            " 12  closed_at            4014 non-null   object \n",
            " 13  description          58321 non-null  object \n",
            " 14  country_code         77875 non-null  object \n",
            " 15  first_investment_at  921 non-null    object \n",
            " 16  last_investment_at   921 non-null    object \n",
            " 17  investment_rounds    80570 non-null  int64  \n",
            " 18  invested_companies   80570 non-null  int64  \n",
            " 19  first_funding_at     80489 non-null  object \n",
            " 20  last_funding_at      80489 non-null  object \n",
            " 21  funding_rounds       80570 non-null  int64  \n",
            " 22  funding_total_usd    80570 non-null  float64\n",
            " 23  first_milestone_at   59954 non-null  object \n",
            " 24  last_milestone_at    59954 non-null  object \n",
            " 25  milestones           80570 non-null  int64  \n",
            " 26  created_by           67690 non-null  object \n",
            "dtypes: float64(1), int64(6), object(20)\n",
            "memory usage: 17.2+ MB\n"
          ],
          "name": "stdout"
        }
      ]
    },
    {
      "cell_type": "code",
      "metadata": {
        "colab": {
          "base_uri": "https://localhost:8080/"
        },
        "id": "OWWDQLuvH4Vk",
        "outputId": "b9c82742-7627-483c-fe6f-ae3dfa3cb13d"
      },
      "source": [
        "for col in df.columns.values:\n",
        "  list_vals = pd.unique(df[col])\n",
        "  print(col + ', has ' + str(len(list_vals)) + ' unique values')\n",
        "  if len(list_vals) < 10:\n",
        "    list_str = ''\n",
        "    for n_value in range(0,len(list_vals)):\n",
        "      list_str = list_str + str(list_vals[n_value]) + ', '\n",
        "    print('  These are: '+list_str[0:len(list_str)-2])\n",
        "  print('\\n')"
      ],
      "execution_count": null,
      "outputs": [
        {
          "output_type": "stream",
          "text": [
            "id, has 80570 unique values\n",
            "\n",
            "\n",
            "funding_round_id, has 33028 unique values\n",
            "\n",
            "\n",
            "funded_object_id, has 21485 unique values\n",
            "\n",
            "\n",
            "investor_object_id, has 17109 unique values\n",
            "\n",
            "\n",
            "created_at, has 32507 unique values\n",
            "\n",
            "\n",
            "updated_at, has 28518 unique values\n",
            "\n",
            "\n",
            "entity_type, has 1 unique values\n",
            "  These are: Company\n",
            "\n",
            "\n",
            "name, has 21485 unique values\n",
            "\n",
            "\n",
            "permalink, has 21485 unique values\n",
            "\n",
            "\n",
            "category_code, has 43 unique values\n",
            "\n",
            "\n",
            "status, has 4 unique values\n",
            "  These are: acquired, ipo, operating, closed\n",
            "\n",
            "\n",
            "founded_at, has 1867 unique values\n",
            "\n",
            "\n",
            "closed_at, has 636 unique values\n",
            "\n",
            "\n",
            "description, has 13025 unique values\n",
            "\n",
            "\n",
            "country_code, has 101 unique values\n",
            "\n",
            "\n",
            "first_investment_at, has 174 unique values\n",
            "\n",
            "\n",
            "last_investment_at, has 173 unique values\n",
            "\n",
            "\n",
            "investment_rounds, has 25 unique values\n",
            "\n",
            "\n",
            "invested_companies, has 23 unique values\n",
            "\n",
            "\n",
            "first_funding_at, has 3051 unique values\n",
            "\n",
            "\n",
            "last_funding_at, has 2831 unique values\n",
            "\n",
            "\n",
            "funding_rounds, has 14 unique values\n",
            "\n",
            "\n",
            "funding_total_usd, has 6631 unique values\n",
            "\n",
            "\n",
            "first_milestone_at, has 1923 unique values\n",
            "\n",
            "\n",
            "last_milestone_at, has 1747 unique values\n",
            "\n",
            "\n",
            "milestones, has 10 unique values\n",
            "\n",
            "\n",
            "created_by, has 4346 unique values\n",
            "\n",
            "\n"
          ],
          "name": "stdout"
        }
      ]
    },
    {
      "cell_type": "code",
      "metadata": {
        "colab": {
          "base_uri": "https://localhost:8080/",
          "height": 1000
        },
        "id": "9D5HsHKyIeDS",
        "outputId": "b760c840-2422-4280-dfe7-d17ca29fbf45"
      },
      "source": [
        "for col in ['status', 'investment_rounds', 'funding_rounds', 'invested_companies', 'milestones']:\n",
        "  if(len(pd.unique(df[col]))>20):\n",
        "    plt.figure(figsize=(12,6))\n",
        "    plt.hist(df[col], bins=len(pd.unique(df[col])))\n",
        "    plt.xticks(rotation=90)\n",
        "  else :\n",
        "    plt.figure(figsize=(10,5))\n",
        "    plt.hist(df[col])\n",
        "    plt.xticks(rotation=45)\n",
        "    \n",
        "  plt.xlabel(col)\n",
        "  plt.show() "
      ],
      "execution_count": null,
      "outputs": [
        {
          "output_type": "display_data",
          "data": {
            "image/png": "[encoded data removed]",
            "text/plain": [
              "<Figure size 720x360 with 1 Axes>"
            ]
          },
          "metadata": {
            "tags": [],
            "needs_background": "light"
          }
        },
        {
          "output_type": "display_data",
          "data": {
            "image/png": "[encoded data removed]",
            "text/plain": [
              "<Figure size 864x432 with 1 Axes>"
            ]
          },
          "metadata": {
            "tags": [],
            "needs_background": "light"
          }
        },
        {
          "output_type": "display_data",
          "data": {
            "image/png": "[encoded data removed]",
            "text/plain": [
              "<Figure size 720x360 with 1 Axes>"
            ]
          },
          "metadata": {
            "tags": [],
            "needs_background": "light"
          }
        },
        {
          "output_type": "display_data",
          "data": {
            "image/png": "[encoded data removed]",
            "text/plain": [
              "<Figure size 864x432 with 1 Axes>"
            ]
          },
          "metadata": {
            "tags": [],
            "needs_background": "light"
          }
        },
        {
          "output_type": "display_data",
          "data": {
            "image/png": "[encoded data removed]",
            "text/plain": [
              "<Figure size 720x360 with 1 Axes>"
            ]
          },
          "metadata": {
            "tags": [],
            "needs_background": "light"
          }
        }
      ]
    },
    {
      "cell_type": "code",
      "metadata": {
        "colab": {
          "base_uri": "https://localhost:8080/",
          "height": 467
        },
        "id": "92TiQHO3KAoT",
        "outputId": "ca434de5-f3e8-4fba-acd2-cba857421963"
      },
      "source": [
        "df.drop([\"closed_at\", \"first_investment_at\",\"invested_companies\", \"investment_rounds\", \"created_at\", \"updated_at\"], axis=\"columns\", inplace= True)\n",
        "df.head()"
      ],
      "execution_count": null,
      "outputs": [
        {
          "output_type": "execute_result",
          "data": {
            "text/html": [
              "<div>\n",
              "<style scoped>\n",
              "    .dataframe tbody tr th:only-of-type {\n",
              "        vertical-align: middle;\n",
              "    }\n",
              "\n",
              "    .dataframe tbody tr th {\n",
              "        vertical-align: top;\n",
              "    }\n",
              "\n",
              "    .dataframe thead th {\n",
              "        text-align: right;\n",
              "    }\n",
              "</style>\n",
              "<table border=\"1\" class=\"dataframe\">\n",
              "  <thead>\n",
              "    <tr style=\"text-align: right;\">\n",
              "      <th></th>\n",
              "      <th>id</th>\n",
              "      <th>funding_round_id</th>\n",
              "      <th>funded_object_id</th>\n",
              "      <th>investor_object_id</th>\n",
              "      <th>entity_type</th>\n",
              "      <th>name</th>\n",
              "      <th>permalink</th>\n",
              "      <th>category_code</th>\n",
              "      <th>status</th>\n",
              "      <th>founded_at</th>\n",
              "      <th>description</th>\n",
              "      <th>country_code</th>\n",
              "      <th>last_investment_at</th>\n",
              "      <th>first_funding_at</th>\n",
              "      <th>last_funding_at</th>\n",
              "      <th>funding_rounds</th>\n",
              "      <th>funding_total_usd</th>\n",
              "      <th>first_milestone_at</th>\n",
              "      <th>last_milestone_at</th>\n",
              "      <th>milestones</th>\n",
              "      <th>created_by</th>\n",
              "    </tr>\n",
              "  </thead>\n",
              "  <tbody>\n",
              "    <tr>\n",
              "      <th>0</th>\n",
              "      <td>1</td>\n",
              "      <td>1</td>\n",
              "      <td>c:4</td>\n",
              "      <td>f:1</td>\n",
              "      <td>Company</td>\n",
              "      <td>Digg</td>\n",
              "      <td>/company/digg</td>\n",
              "      <td>news</td>\n",
              "      <td>acquired</td>\n",
              "      <td>2004-10-11</td>\n",
              "      <td>user driven social content website</td>\n",
              "      <td>USA</td>\n",
              "      <td>NaN</td>\n",
              "      <td>2005-10-01</td>\n",
              "      <td>2011-07-12</td>\n",
              "      <td>4</td>\n",
              "      <td>45000000.0</td>\n",
              "      <td>2010-01-08</td>\n",
              "      <td>2013-12-04</td>\n",
              "      <td>8</td>\n",
              "      <td>initial-importer</td>\n",
              "    </tr>\n",
              "    <tr>\n",
              "      <th>1</th>\n",
              "      <td>2</td>\n",
              "      <td>1</td>\n",
              "      <td>c:4</td>\n",
              "      <td>f:2</td>\n",
              "      <td>Company</td>\n",
              "      <td>Digg</td>\n",
              "      <td>/company/digg</td>\n",
              "      <td>news</td>\n",
              "      <td>acquired</td>\n",
              "      <td>2004-10-11</td>\n",
              "      <td>user driven social content website</td>\n",
              "      <td>USA</td>\n",
              "      <td>NaN</td>\n",
              "      <td>2005-10-01</td>\n",
              "      <td>2011-07-12</td>\n",
              "      <td>4</td>\n",
              "      <td>45000000.0</td>\n",
              "      <td>2010-01-08</td>\n",
              "      <td>2013-12-04</td>\n",
              "      <td>8</td>\n",
              "      <td>initial-importer</td>\n",
              "    </tr>\n",
              "    <tr>\n",
              "      <th>2</th>\n",
              "      <td>144</td>\n",
              "      <td>85</td>\n",
              "      <td>c:4</td>\n",
              "      <td>f:1</td>\n",
              "      <td>Company</td>\n",
              "      <td>Digg</td>\n",
              "      <td>/company/digg</td>\n",
              "      <td>news</td>\n",
              "      <td>acquired</td>\n",
              "      <td>2004-10-11</td>\n",
              "      <td>user driven social content website</td>\n",
              "      <td>USA</td>\n",
              "      <td>NaN</td>\n",
              "      <td>2005-10-01</td>\n",
              "      <td>2011-07-12</td>\n",
              "      <td>4</td>\n",
              "      <td>45000000.0</td>\n",
              "      <td>2010-01-08</td>\n",
              "      <td>2013-12-04</td>\n",
              "      <td>8</td>\n",
              "      <td>initial-importer</td>\n",
              "    </tr>\n",
              "    <tr>\n",
              "      <th>3</th>\n",
              "      <td>145</td>\n",
              "      <td>85</td>\n",
              "      <td>c:4</td>\n",
              "      <td>f:2</td>\n",
              "      <td>Company</td>\n",
              "      <td>Digg</td>\n",
              "      <td>/company/digg</td>\n",
              "      <td>news</td>\n",
              "      <td>acquired</td>\n",
              "      <td>2004-10-11</td>\n",
              "      <td>user driven social content website</td>\n",
              "      <td>USA</td>\n",
              "      <td>NaN</td>\n",
              "      <td>2005-10-01</td>\n",
              "      <td>2011-07-12</td>\n",
              "      <td>4</td>\n",
              "      <td>45000000.0</td>\n",
              "      <td>2010-01-08</td>\n",
              "      <td>2013-12-04</td>\n",
              "      <td>8</td>\n",
              "      <td>initial-importer</td>\n",
              "    </tr>\n",
              "    <tr>\n",
              "      <th>4</th>\n",
              "      <td>146</td>\n",
              "      <td>85</td>\n",
              "      <td>c:4</td>\n",
              "      <td>f:4850</td>\n",
              "      <td>Company</td>\n",
              "      <td>Digg</td>\n",
              "      <td>/company/digg</td>\n",
              "      <td>news</td>\n",
              "      <td>acquired</td>\n",
              "      <td>2004-10-11</td>\n",
              "      <td>user driven social content website</td>\n",
              "      <td>USA</td>\n",
              "      <td>NaN</td>\n",
              "      <td>2005-10-01</td>\n",
              "      <td>2011-07-12</td>\n",
              "      <td>4</td>\n",
              "      <td>45000000.0</td>\n",
              "      <td>2010-01-08</td>\n",
              "      <td>2013-12-04</td>\n",
              "      <td>8</td>\n",
              "      <td>initial-importer</td>\n",
              "    </tr>\n",
              "  </tbody>\n",
              "</table>\n",
              "</div>"
            ],
            "text/plain": [
              "    id  funding_round_id  ... milestones        created_by\n",
              "0    1                 1  ...          8  initial-importer\n",
              "1    2                 1  ...          8  initial-importer\n",
              "2  144                85  ...          8  initial-importer\n",
              "3  145                85  ...          8  initial-importer\n",
              "4  146                85  ...          8  initial-importer\n",
              "\n",
              "[5 rows x 21 columns]"
            ]
          },
          "metadata": {
            "tags": []
          },
          "execution_count": 94
        }
      ]
    },
    {
      "cell_type": "code",
      "metadata": {
        "colab": {
          "base_uri": "https://localhost:8080/",
          "height": 332
        },
        "id": "Zy3g1qr-KPxR",
        "outputId": "a390848f-f3f1-4ac2-bd81-16df31c54e54"
      },
      "source": [
        "fr = pd.read_csv(\"/content/drive/MyDrive/Startup investments/funding_rounds.csv\")\n",
        "fr.head()"
      ],
      "execution_count": null,
      "outputs": [
        {
          "output_type": "execute_result",
          "data": {
            "text/html": [
              "<div>\n",
              "<style scoped>\n",
              "    .dataframe tbody tr th:only-of-type {\n",
              "        vertical-align: middle;\n",
              "    }\n",
              "\n",
              "    .dataframe tbody tr th {\n",
              "        vertical-align: top;\n",
              "    }\n",
              "\n",
              "    .dataframe thead th {\n",
              "        text-align: right;\n",
              "    }\n",
              "</style>\n",
              "<table border=\"1\" class=\"dataframe\">\n",
              "  <thead>\n",
              "    <tr style=\"text-align: right;\">\n",
              "      <th></th>\n",
              "      <th>id</th>\n",
              "      <th>funding_round_id</th>\n",
              "      <th>object_id</th>\n",
              "      <th>funded_at</th>\n",
              "      <th>funding_round_type</th>\n",
              "      <th>funding_round_code</th>\n",
              "      <th>raised_amount_usd</th>\n",
              "      <th>raised_amount</th>\n",
              "      <th>raised_currency_code</th>\n",
              "      <th>pre_money_valuation_usd</th>\n",
              "      <th>pre_money_valuation</th>\n",
              "      <th>pre_money_currency_code</th>\n",
              "      <th>post_money_valuation_usd</th>\n",
              "      <th>post_money_valuation</th>\n",
              "      <th>post_money_currency_code</th>\n",
              "      <th>participants</th>\n",
              "      <th>is_first_round</th>\n",
              "      <th>is_last_round</th>\n",
              "      <th>source_url</th>\n",
              "      <th>source_description</th>\n",
              "      <th>created_by</th>\n",
              "      <th>created_at</th>\n",
              "      <th>updated_at</th>\n",
              "    </tr>\n",
              "  </thead>\n",
              "  <tbody>\n",
              "    <tr>\n",
              "      <th>0</th>\n",
              "      <td>1</td>\n",
              "      <td>1</td>\n",
              "      <td>c:4</td>\n",
              "      <td>2006-12-01</td>\n",
              "      <td>series-b</td>\n",
              "      <td>b</td>\n",
              "      <td>8500000.0</td>\n",
              "      <td>8500000.0</td>\n",
              "      <td>USD</td>\n",
              "      <td>0.0</td>\n",
              "      <td>0.0</td>\n",
              "      <td>NaN</td>\n",
              "      <td>0.0</td>\n",
              "      <td>0.0</td>\n",
              "      <td>NaN</td>\n",
              "      <td>2</td>\n",
              "      <td>0</td>\n",
              "      <td>0</td>\n",
              "      <td>http://www.marketingvox.com/archives/2006/12/2...</td>\n",
              "      <td>NaN</td>\n",
              "      <td>initial-importer</td>\n",
              "      <td>2007-07-04 04:52:57</td>\n",
              "      <td>2008-02-27 23:14:29</td>\n",
              "    </tr>\n",
              "    <tr>\n",
              "      <th>1</th>\n",
              "      <td>2</td>\n",
              "      <td>2</td>\n",
              "      <td>c:5</td>\n",
              "      <td>2004-09-01</td>\n",
              "      <td>angel</td>\n",
              "      <td>angel</td>\n",
              "      <td>500000.0</td>\n",
              "      <td>500000.0</td>\n",
              "      <td>USD</td>\n",
              "      <td>0.0</td>\n",
              "      <td>0.0</td>\n",
              "      <td>USD</td>\n",
              "      <td>0.0</td>\n",
              "      <td>0.0</td>\n",
              "      <td>USD</td>\n",
              "      <td>2</td>\n",
              "      <td>0</td>\n",
              "      <td>1</td>\n",
              "      <td>NaN</td>\n",
              "      <td>NaN</td>\n",
              "      <td>initial-importer</td>\n",
              "      <td>2007-05-27 06:08:18</td>\n",
              "      <td>2013-06-28 20:07:23</td>\n",
              "    </tr>\n",
              "    <tr>\n",
              "      <th>2</th>\n",
              "      <td>3</td>\n",
              "      <td>3</td>\n",
              "      <td>c:5</td>\n",
              "      <td>2005-05-01</td>\n",
              "      <td>series-a</td>\n",
              "      <td>a</td>\n",
              "      <td>12700000.0</td>\n",
              "      <td>12700000.0</td>\n",
              "      <td>USD</td>\n",
              "      <td>115000000.0</td>\n",
              "      <td>115000000.0</td>\n",
              "      <td>USD</td>\n",
              "      <td>0.0</td>\n",
              "      <td>0.0</td>\n",
              "      <td>USD</td>\n",
              "      <td>3</td>\n",
              "      <td>0</td>\n",
              "      <td>0</td>\n",
              "      <td>http://www.techcrunch.com/2007/11/02/jim-breye...</td>\n",
              "      <td>Jim Breyer: Extra $500 Million Round For Faceb...</td>\n",
              "      <td>initial-importer</td>\n",
              "      <td>2007-05-27 06:09:10</td>\n",
              "      <td>2013-06-28 20:07:23</td>\n",
              "    </tr>\n",
              "    <tr>\n",
              "      <th>3</th>\n",
              "      <td>4</td>\n",
              "      <td>4</td>\n",
              "      <td>c:5</td>\n",
              "      <td>2006-04-01</td>\n",
              "      <td>series-b</td>\n",
              "      <td>b</td>\n",
              "      <td>27500000.0</td>\n",
              "      <td>27500000.0</td>\n",
              "      <td>USD</td>\n",
              "      <td>525000000.0</td>\n",
              "      <td>525000000.0</td>\n",
              "      <td>USD</td>\n",
              "      <td>0.0</td>\n",
              "      <td>0.0</td>\n",
              "      <td>USD</td>\n",
              "      <td>4</td>\n",
              "      <td>0</td>\n",
              "      <td>0</td>\n",
              "      <td>http://www.facebook.com/press/info.php?factsheet</td>\n",
              "      <td>Facebook Funding</td>\n",
              "      <td>initial-importer</td>\n",
              "      <td>2007-05-27 06:09:36</td>\n",
              "      <td>2013-06-28 20:07:24</td>\n",
              "    </tr>\n",
              "    <tr>\n",
              "      <th>4</th>\n",
              "      <td>5</td>\n",
              "      <td>5</td>\n",
              "      <td>c:7299</td>\n",
              "      <td>2006-05-01</td>\n",
              "      <td>series-b</td>\n",
              "      <td>b</td>\n",
              "      <td>10500000.0</td>\n",
              "      <td>10500000.0</td>\n",
              "      <td>USD</td>\n",
              "      <td>0.0</td>\n",
              "      <td>0.0</td>\n",
              "      <td>NaN</td>\n",
              "      <td>0.0</td>\n",
              "      <td>0.0</td>\n",
              "      <td>NaN</td>\n",
              "      <td>2</td>\n",
              "      <td>0</td>\n",
              "      <td>0</td>\n",
              "      <td>http://www.techcrunch.com/2006/05/14/photobuck...</td>\n",
              "      <td>PhotoBucket Closes $10.5M From Trinity Ventures</td>\n",
              "      <td>initial-importer</td>\n",
              "      <td>2007-05-29 11:05:59</td>\n",
              "      <td>2008-04-16 17:09:12</td>\n",
              "    </tr>\n",
              "  </tbody>\n",
              "</table>\n",
              "</div>"
            ],
            "text/plain": [
              "   id  funding_round_id  ...           created_at           updated_at\n",
              "0   1                 1  ...  2007-07-04 04:52:57  2008-02-27 23:14:29\n",
              "1   2                 2  ...  2007-05-27 06:08:18  2013-06-28 20:07:23\n",
              "2   3                 3  ...  2007-05-27 06:09:10  2013-06-28 20:07:23\n",
              "3   4                 4  ...  2007-05-27 06:09:36  2013-06-28 20:07:24\n",
              "4   5                 5  ...  2007-05-29 11:05:59  2008-04-16 17:09:12\n",
              "\n",
              "[5 rows x 23 columns]"
            ]
          },
          "metadata": {
            "tags": []
          },
          "execution_count": 95
        }
      ]
    },
    {
      "cell_type": "code",
      "metadata": {
        "colab": {
          "base_uri": "https://localhost:8080/"
        },
        "id": "-rHl02rLKdFJ",
        "outputId": "12416b22-0d58-4677-9f7c-07cb34df7b1b"
      },
      "source": [
        "fr.info()"
      ],
      "execution_count": null,
      "outputs": [
        {
          "output_type": "stream",
          "text": [
            "<class 'pandas.core.frame.DataFrame'>\n",
            "RangeIndex: 52928 entries, 0 to 52927\n",
            "Data columns (total 23 columns):\n",
            " #   Column                    Non-Null Count  Dtype  \n",
            "---  ------                    --------------  -----  \n",
            " 0   id                        52928 non-null  int64  \n",
            " 1   funding_round_id          52928 non-null  int64  \n",
            " 2   object_id                 52928 non-null  object \n",
            " 3   funded_at                 52680 non-null  object \n",
            " 4   funding_round_type        52928 non-null  object \n",
            " 5   funding_round_code        52928 non-null  object \n",
            " 6   raised_amount_usd         52928 non-null  float64\n",
            " 7   raised_amount             52928 non-null  float64\n",
            " 8   raised_currency_code      49862 non-null  object \n",
            " 9   pre_money_valuation_usd   52928 non-null  float64\n",
            " 10  pre_money_valuation       52928 non-null  float64\n",
            " 11  pre_money_currency_code   26883 non-null  object \n",
            " 12  post_money_valuation_usd  52928 non-null  float64\n",
            " 13  post_money_valuation      52928 non-null  float64\n",
            " 14  post_money_currency_code  30448 non-null  object \n",
            " 15  participants              52928 non-null  int64  \n",
            " 16  is_first_round            52928 non-null  int64  \n",
            " 17  is_last_round             52928 non-null  int64  \n",
            " 18  source_url                40382 non-null  object \n",
            " 19  source_description        43439 non-null  object \n",
            " 20  created_by                48291 non-null  object \n",
            " 21  created_at                52928 non-null  object \n",
            " 22  updated_at                52928 non-null  object \n",
            "dtypes: float64(6), int64(5), object(12)\n",
            "memory usage: 9.3+ MB\n"
          ],
          "name": "stdout"
        }
      ]
    },
    {
      "cell_type": "code",
      "metadata": {
        "colab": {
          "base_uri": "https://localhost:8080/",
          "height": 283
        },
        "id": "JGLp966KK0wZ",
        "outputId": "cd4069ab-75f4-467d-b1e7-0342574f5129"
      },
      "source": [
        "A = fr[['object_id','funded_at', 'funding_round_type', 'raised_amount_usd']]\n",
        "A.rename(columns={'object_id':'funded_object_id'}, inplace=True)\n",
        "A.head()"
      ],
      "execution_count": null,
      "outputs": [
        {
          "output_type": "stream",
          "text": [
            "/usr/local/lib/python3.6/dist-packages/pandas/core/frame.py:4308: SettingWithCopyWarning: \n",
            "A value is trying to be set on a copy of a slice from a DataFrame\n",
            "\n",
            "See the caveats in the documentation: https://pandas.pydata.org/pandas-docs/stable/user_guide/indexing.html#returning-a-view-versus-a-copy\n",
            "  errors=errors,\n"
          ],
          "name": "stderr"
        },
        {
          "output_type": "execute_result",
          "data": {
            "text/html": [
              "<div>\n",
              "<style scoped>\n",
              "    .dataframe tbody tr th:only-of-type {\n",
              "        vertical-align: middle;\n",
              "    }\n",
              "\n",
              "    .dataframe tbody tr th {\n",
              "        vertical-align: top;\n",
              "    }\n",
              "\n",
              "    .dataframe thead th {\n",
              "        text-align: right;\n",
              "    }\n",
              "</style>\n",
              "<table border=\"1\" class=\"dataframe\">\n",
              "  <thead>\n",
              "    <tr style=\"text-align: right;\">\n",
              "      <th></th>\n",
              "      <th>funded_object_id</th>\n",
              "      <th>funded_at</th>\n",
              "      <th>funding_round_type</th>\n",
              "      <th>raised_amount_usd</th>\n",
              "    </tr>\n",
              "  </thead>\n",
              "  <tbody>\n",
              "    <tr>\n",
              "      <th>0</th>\n",
              "      <td>c:4</td>\n",
              "      <td>2006-12-01</td>\n",
              "      <td>series-b</td>\n",
              "      <td>8500000.0</td>\n",
              "    </tr>\n",
              "    <tr>\n",
              "      <th>1</th>\n",
              "      <td>c:5</td>\n",
              "      <td>2004-09-01</td>\n",
              "      <td>angel</td>\n",
              "      <td>500000.0</td>\n",
              "    </tr>\n",
              "    <tr>\n",
              "      <th>2</th>\n",
              "      <td>c:5</td>\n",
              "      <td>2005-05-01</td>\n",
              "      <td>series-a</td>\n",
              "      <td>12700000.0</td>\n",
              "    </tr>\n",
              "    <tr>\n",
              "      <th>3</th>\n",
              "      <td>c:5</td>\n",
              "      <td>2006-04-01</td>\n",
              "      <td>series-b</td>\n",
              "      <td>27500000.0</td>\n",
              "    </tr>\n",
              "    <tr>\n",
              "      <th>4</th>\n",
              "      <td>c:7299</td>\n",
              "      <td>2006-05-01</td>\n",
              "      <td>series-b</td>\n",
              "      <td>10500000.0</td>\n",
              "    </tr>\n",
              "  </tbody>\n",
              "</table>\n",
              "</div>"
            ],
            "text/plain": [
              "  funded_object_id   funded_at funding_round_type  raised_amount_usd\n",
              "0              c:4  2006-12-01           series-b          8500000.0\n",
              "1              c:5  2004-09-01              angel           500000.0\n",
              "2              c:5  2005-05-01           series-a         12700000.0\n",
              "3              c:5  2006-04-01           series-b         27500000.0\n",
              "4           c:7299  2006-05-01           series-b         10500000.0"
            ]
          },
          "metadata": {
            "tags": []
          },
          "execution_count": 97
        }
      ]
    },
    {
      "cell_type": "code",
      "metadata": {
        "colab": {
          "base_uri": "https://localhost:8080/",
          "height": 467
        },
        "id": "ofhwrXpbLnc3",
        "outputId": "aa6a2da7-0e51-437e-ce7c-27b19de0bd76"
      },
      "source": [
        "df2 = df.merge(A, on='funded_object_id')\n",
        "df2.head()"
      ],
      "execution_count": null,
      "outputs": [
        {
          "output_type": "execute_result",
          "data": {
            "text/html": [
              "<div>\n",
              "<style scoped>\n",
              "    .dataframe tbody tr th:only-of-type {\n",
              "        vertical-align: middle;\n",
              "    }\n",
              "\n",
              "    .dataframe tbody tr th {\n",
              "        vertical-align: top;\n",
              "    }\n",
              "\n",
              "    .dataframe thead th {\n",
              "        text-align: right;\n",
              "    }\n",
              "</style>\n",
              "<table border=\"1\" class=\"dataframe\">\n",
              "  <thead>\n",
              "    <tr style=\"text-align: right;\">\n",
              "      <th></th>\n",
              "      <th>id</th>\n",
              "      <th>funding_round_id</th>\n",
              "      <th>funded_object_id</th>\n",
              "      <th>investor_object_id</th>\n",
              "      <th>entity_type</th>\n",
              "      <th>name</th>\n",
              "      <th>permalink</th>\n",
              "      <th>category_code</th>\n",
              "      <th>status</th>\n",
              "      <th>founded_at</th>\n",
              "      <th>description</th>\n",
              "      <th>country_code</th>\n",
              "      <th>last_investment_at</th>\n",
              "      <th>first_funding_at</th>\n",
              "      <th>last_funding_at</th>\n",
              "      <th>funding_rounds</th>\n",
              "      <th>funding_total_usd</th>\n",
              "      <th>first_milestone_at</th>\n",
              "      <th>last_milestone_at</th>\n",
              "      <th>milestones</th>\n",
              "      <th>created_by</th>\n",
              "      <th>funded_at</th>\n",
              "      <th>funding_round_type</th>\n",
              "      <th>raised_amount_usd</th>\n",
              "    </tr>\n",
              "  </thead>\n",
              "  <tbody>\n",
              "    <tr>\n",
              "      <th>0</th>\n",
              "      <td>1</td>\n",
              "      <td>1</td>\n",
              "      <td>c:4</td>\n",
              "      <td>f:1</td>\n",
              "      <td>Company</td>\n",
              "      <td>Digg</td>\n",
              "      <td>/company/digg</td>\n",
              "      <td>news</td>\n",
              "      <td>acquired</td>\n",
              "      <td>2004-10-11</td>\n",
              "      <td>user driven social content website</td>\n",
              "      <td>USA</td>\n",
              "      <td>NaN</td>\n",
              "      <td>2005-10-01</td>\n",
              "      <td>2011-07-12</td>\n",
              "      <td>4</td>\n",
              "      <td>45000000.0</td>\n",
              "      <td>2010-01-08</td>\n",
              "      <td>2013-12-04</td>\n",
              "      <td>8</td>\n",
              "      <td>initial-importer</td>\n",
              "      <td>2006-12-01</td>\n",
              "      <td>series-b</td>\n",
              "      <td>8500000.0</td>\n",
              "    </tr>\n",
              "    <tr>\n",
              "      <th>1</th>\n",
              "      <td>1</td>\n",
              "      <td>1</td>\n",
              "      <td>c:4</td>\n",
              "      <td>f:1</td>\n",
              "      <td>Company</td>\n",
              "      <td>Digg</td>\n",
              "      <td>/company/digg</td>\n",
              "      <td>news</td>\n",
              "      <td>acquired</td>\n",
              "      <td>2004-10-11</td>\n",
              "      <td>user driven social content website</td>\n",
              "      <td>USA</td>\n",
              "      <td>NaN</td>\n",
              "      <td>2005-10-01</td>\n",
              "      <td>2011-07-12</td>\n",
              "      <td>4</td>\n",
              "      <td>45000000.0</td>\n",
              "      <td>2010-01-08</td>\n",
              "      <td>2013-12-04</td>\n",
              "      <td>8</td>\n",
              "      <td>initial-importer</td>\n",
              "      <td>2005-10-01</td>\n",
              "      <td>series-a</td>\n",
              "      <td>2800000.0</td>\n",
              "    </tr>\n",
              "    <tr>\n",
              "      <th>2</th>\n",
              "      <td>1</td>\n",
              "      <td>1</td>\n",
              "      <td>c:4</td>\n",
              "      <td>f:1</td>\n",
              "      <td>Company</td>\n",
              "      <td>Digg</td>\n",
              "      <td>/company/digg</td>\n",
              "      <td>news</td>\n",
              "      <td>acquired</td>\n",
              "      <td>2004-10-11</td>\n",
              "      <td>user driven social content website</td>\n",
              "      <td>USA</td>\n",
              "      <td>NaN</td>\n",
              "      <td>2005-10-01</td>\n",
              "      <td>2011-07-12</td>\n",
              "      <td>4</td>\n",
              "      <td>45000000.0</td>\n",
              "      <td>2010-01-08</td>\n",
              "      <td>2013-12-04</td>\n",
              "      <td>8</td>\n",
              "      <td>initial-importer</td>\n",
              "      <td>2008-09-24</td>\n",
              "      <td>series-c+</td>\n",
              "      <td>28700000.0</td>\n",
              "    </tr>\n",
              "    <tr>\n",
              "      <th>3</th>\n",
              "      <td>1</td>\n",
              "      <td>1</td>\n",
              "      <td>c:4</td>\n",
              "      <td>f:1</td>\n",
              "      <td>Company</td>\n",
              "      <td>Digg</td>\n",
              "      <td>/company/digg</td>\n",
              "      <td>news</td>\n",
              "      <td>acquired</td>\n",
              "      <td>2004-10-11</td>\n",
              "      <td>user driven social content website</td>\n",
              "      <td>USA</td>\n",
              "      <td>NaN</td>\n",
              "      <td>2005-10-01</td>\n",
              "      <td>2011-07-12</td>\n",
              "      <td>4</td>\n",
              "      <td>45000000.0</td>\n",
              "      <td>2010-01-08</td>\n",
              "      <td>2013-12-04</td>\n",
              "      <td>8</td>\n",
              "      <td>initial-importer</td>\n",
              "      <td>2011-07-12</td>\n",
              "      <td>series-c+</td>\n",
              "      <td>5000000.0</td>\n",
              "    </tr>\n",
              "    <tr>\n",
              "      <th>4</th>\n",
              "      <td>2</td>\n",
              "      <td>1</td>\n",
              "      <td>c:4</td>\n",
              "      <td>f:2</td>\n",
              "      <td>Company</td>\n",
              "      <td>Digg</td>\n",
              "      <td>/company/digg</td>\n",
              "      <td>news</td>\n",
              "      <td>acquired</td>\n",
              "      <td>2004-10-11</td>\n",
              "      <td>user driven social content website</td>\n",
              "      <td>USA</td>\n",
              "      <td>NaN</td>\n",
              "      <td>2005-10-01</td>\n",
              "      <td>2011-07-12</td>\n",
              "      <td>4</td>\n",
              "      <td>45000000.0</td>\n",
              "      <td>2010-01-08</td>\n",
              "      <td>2013-12-04</td>\n",
              "      <td>8</td>\n",
              "      <td>initial-importer</td>\n",
              "      <td>2006-12-01</td>\n",
              "      <td>series-b</td>\n",
              "      <td>8500000.0</td>\n",
              "    </tr>\n",
              "  </tbody>\n",
              "</table>\n",
              "</div>"
            ],
            "text/plain": [
              "   id  funding_round_id  ... funding_round_type raised_amount_usd\n",
              "0   1                 1  ...           series-b         8500000.0\n",
              "1   1                 1  ...           series-a         2800000.0\n",
              "2   1                 1  ...          series-c+        28700000.0\n",
              "3   1                 1  ...          series-c+         5000000.0\n",
              "4   2                 1  ...           series-b         8500000.0\n",
              "\n",
              "[5 rows x 24 columns]"
            ]
          },
          "metadata": {
            "tags": []
          },
          "execution_count": 98
        }
      ]
    },
    {
      "cell_type": "code",
      "metadata": {
        "colab": {
          "base_uri": "https://localhost:8080/"
        },
        "id": "jBZoPHU-LrgZ",
        "outputId": "7ce4d214-fdca-4838-dc3e-17eeea95bb11"
      },
      "source": [
        "df2.info()"
      ],
      "execution_count": null,
      "outputs": [
        {
          "output_type": "stream",
          "text": [
            "<class 'pandas.core.frame.DataFrame'>\n",
            "Int64Index: 223898 entries, 0 to 223897\n",
            "Data columns (total 24 columns):\n",
            " #   Column              Non-Null Count   Dtype  \n",
            "---  ------              --------------   -----  \n",
            " 0   id                  223898 non-null  int64  \n",
            " 1   funding_round_id    223898 non-null  int64  \n",
            " 2   funded_object_id    223898 non-null  object \n",
            " 3   investor_object_id  223898 non-null  object \n",
            " 4   entity_type         223898 non-null  object \n",
            " 5   name                223898 non-null  object \n",
            " 6   permalink           223898 non-null  object \n",
            " 7   category_code       221193 non-null  object \n",
            " 8   status              223898 non-null  object \n",
            " 9   founded_at          202601 non-null  object \n",
            " 10  description         175292 non-null  object \n",
            " 11  country_code        220161 non-null  object \n",
            " 12  last_investment_at  3185 non-null    object \n",
            " 13  first_funding_at    223811 non-null  object \n",
            " 14  last_funding_at     223811 non-null  object \n",
            " 15  funding_rounds      223898 non-null  int64  \n",
            " 16  funding_total_usd   223898 non-null  float64\n",
            " 17  first_milestone_at  182398 non-null  object \n",
            " 18  last_milestone_at   182398 non-null  object \n",
            " 19  milestones          223898 non-null  int64  \n",
            " 20  created_by          187444 non-null  object \n",
            " 21  funded_at           223669 non-null  object \n",
            " 22  funding_round_type  223898 non-null  object \n",
            " 23  raised_amount_usd   223898 non-null  float64\n",
            "dtypes: float64(2), int64(4), object(18)\n",
            "memory usage: 42.7+ MB\n"
          ],
          "name": "stdout"
        }
      ]
    },
    {
      "cell_type": "code",
      "metadata": {
        "colab": {
          "base_uri": "https://localhost:8080/"
        },
        "id": "lhTe5f6DPzab",
        "outputId": "ab7f792b-8179-4525-bb71-9301ac9a22ac"
      },
      "source": [
        "df2.isna().sum()"
      ],
      "execution_count": null,
      "outputs": [
        {
          "output_type": "execute_result",
          "data": {
            "text/plain": [
              "id                         0\n",
              "funding_round_id           0\n",
              "funded_object_id           0\n",
              "investor_object_id         0\n",
              "entity_type                0\n",
              "name                       0\n",
              "permalink                  0\n",
              "category_code           2705\n",
              "status                     0\n",
              "founded_at             21297\n",
              "description            48606\n",
              "country_code            3737\n",
              "last_investment_at    220713\n",
              "first_funding_at          87\n",
              "last_funding_at           87\n",
              "funding_rounds             0\n",
              "funding_total_usd          0\n",
              "first_milestone_at     41500\n",
              "last_milestone_at      41500\n",
              "milestones                 0\n",
              "created_by             36454\n",
              "funded_at                229\n",
              "funding_round_type         0\n",
              "raised_amount_usd          0\n",
              "dtype: int64"
            ]
          },
          "metadata": {
            "tags": []
          },
          "execution_count": 100
        }
      ]
    },
    {
      "cell_type": "code",
      "metadata": {
        "id": "k-jjRyy2P7KF"
      },
      "source": [
        "df2.drop(['created_by', 'first_milestone_at', 'last_milestone_at', 'last_investment_at'], axis='columns', inplace=True)"
      ],
      "execution_count": null,
      "outputs": []
    },
    {
      "cell_type": "code",
      "metadata": {
        "colab": {
          "base_uri": "https://localhost:8080/"
        },
        "id": "8PwZFyDSL0BR",
        "outputId": "dde6a28c-6672-4e8f-cd4a-7ed5a21097c8"
      },
      "source": [
        "for col in df2.columns.values:\n",
        "  list_vals = pd.unique(df2[col])\n",
        "  print(col + ', has ' + str(len(list_vals)) + ' unique values')\n",
        "  if len(list_vals) < 10:\n",
        "    list_str = ''\n",
        "    for n_value in range(0,len(list_vals)):\n",
        "      list_str = list_str + str(list_vals[n_value]) + ', '\n",
        "    print('  These are: '+list_str[0:len(list_str)-2])\n",
        "  print('\\n')"
      ],
      "execution_count": null,
      "outputs": [
        {
          "output_type": "stream",
          "text": [
            "id, has 80570 unique values\n",
            "\n",
            "\n",
            "funding_round_id, has 33028 unique values\n",
            "\n",
            "\n",
            "funded_object_id, has 21485 unique values\n",
            "\n",
            "\n",
            "investor_object_id, has 17109 unique values\n",
            "\n",
            "\n",
            "entity_type, has 1 unique values\n",
            "  These are: Company\n",
            "\n",
            "\n",
            "name, has 21485 unique values\n",
            "\n",
            "\n",
            "permalink, has 21485 unique values\n",
            "\n",
            "\n",
            "category_code, has 43 unique values\n",
            "\n",
            "\n",
            "status, has 4 unique values\n",
            "  These are: acquired, ipo, operating, closed\n",
            "\n",
            "\n",
            "founded_at, has 1867 unique values\n",
            "\n",
            "\n",
            "description, has 13025 unique values\n",
            "\n",
            "\n",
            "country_code, has 101 unique values\n",
            "\n",
            "\n",
            "first_funding_at, has 3051 unique values\n",
            "\n",
            "\n",
            "last_funding_at, has 2831 unique values\n",
            "\n",
            "\n",
            "funding_rounds, has 14 unique values\n",
            "\n",
            "\n",
            "funding_total_usd, has 6631 unique values\n",
            "\n",
            "\n",
            "milestones, has 10 unique values\n",
            "\n",
            "\n",
            "funded_at, has 3262 unique values\n",
            "\n",
            "\n",
            "funding_round_type, has 9 unique values\n",
            "  These are: series-b, series-a, series-c+, angel, other, venture, private-equity, post-ipo, crowdfunding\n",
            "\n",
            "\n",
            "raised_amount_usd, has 6950 unique values\n",
            "\n",
            "\n"
          ],
          "name": "stdout"
        }
      ]
    },
    {
      "cell_type": "code",
      "metadata": {
        "colab": {
          "base_uri": "https://localhost:8080/",
          "height": 1000
        },
        "id": "O7r6jbsaQbL0",
        "outputId": "133af999-2e70-456c-fccf-190d6dfe4c70"
      },
      "source": [
        "for col in ['status', 'funding_rounds', 'funding_round_type', 'milestones']:\n",
        "  if(len(pd.unique(df2[col]))>20):\n",
        "    plt.figure(figsize=(12,6))\n",
        "    plt.hist(df2[col], bins=len(pd.unique(df2[col])))\n",
        "    plt.xticks(rotation=90)\n",
        "  else :\n",
        "    plt.figure(figsize=(10,5))\n",
        "    plt.hist(df2[col])\n",
        "    plt.xticks(rotation=45)\n",
        "    \n",
        "  plt.xlabel(col)\n",
        "  plt.show()"
      ],
      "execution_count": null,
      "outputs": [
        {
          "output_type": "display_data",
          "data": {
            "image/png": "[encoded data removed]",
            "text/plain": [
              "<Figure size 720x360 with 1 Axes>"
            ]
          },
          "metadata": {
            "tags": [],
            "needs_background": "light"
          }
        },
        {
          "output_type": "display_data",
          "data": {
            "image/png": "[encoded data removed]",
            "text/plain": [
              "<Figure size 720x360 with 1 Axes>"
            ]
          },
          "metadata": {
            "tags": [],
            "needs_background": "light"
          }
        },
        {
          "output_type": "display_data",
          "data": {
            "image/png": "[encoded data removed]",
            "text/plain": [
              "<Figure size 720x360 with 1 Axes>"
            ]
          },
          "metadata": {
            "tags": [],
            "needs_background": "light"
          }
        },
        {
          "output_type": "display_data",
          "data": {
            "image/png": "[encoded data removed]",
            "text/plain": [
              "<Figure size 720x360 with 1 Axes>"
            ]
          },
          "metadata": {
            "tags": [],
            "needs_background": "light"
          }
        }
      ]
    },
    {
      "cell_type": "code",
      "metadata": {
        "id": "516CRRsRPyR9"
      },
      "source": [
        "df2 = df2[~(df2['country_code'].isnull() | df2['description'].isnull() | df2['funded_at'].isnull() | df2['founded_at'].isnull() | df2['category_code'].isnull())]"
      ],
      "execution_count": null,
      "outputs": []
    },
    {
      "cell_type": "code",
      "metadata": {
        "colab": {
          "base_uri": "https://localhost:8080/"
        },
        "id": "U2vrYr_TSLst",
        "outputId": "647b57d1-5188-4384-9f90-95a5ed31a1cf"
      },
      "source": [
        "df2.isna().sum()"
      ],
      "execution_count": null,
      "outputs": [
        {
          "output_type": "execute_result",
          "data": {
            "text/plain": [
              "id                    0\n",
              "funding_round_id      0\n",
              "funded_object_id      0\n",
              "investor_object_id    0\n",
              "entity_type           0\n",
              "name                  0\n",
              "permalink             0\n",
              "category_code         0\n",
              "status                0\n",
              "founded_at            0\n",
              "description           0\n",
              "country_code          0\n",
              "first_funding_at      0\n",
              "last_funding_at       0\n",
              "funding_rounds        0\n",
              "funding_total_usd     0\n",
              "milestones            0\n",
              "funded_at             0\n",
              "funding_round_type    0\n",
              "raised_amount_usd     0\n",
              "dtype: int64"
            ]
          },
          "metadata": {
            "tags": []
          },
          "execution_count": 105
        }
      ]
    },
    {
      "cell_type": "code",
      "metadata": {
        "colab": {
          "base_uri": "https://localhost:8080/"
        },
        "id": "MokEmQH4Slym",
        "outputId": "1876fe26-5ed5-4872-b78e-cd4a95727a88"
      },
      "source": [
        "df2=df2.drop_duplicates()\n",
        "sum(df2.duplicated())"
      ],
      "execution_count": null,
      "outputs": [
        {
          "output_type": "execute_result",
          "data": {
            "text/plain": [
              "0"
            ]
          },
          "metadata": {
            "tags": []
          },
          "execution_count": 106
        }
      ]
    },
    {
      "cell_type": "markdown",
      "metadata": {
        "id": "3u545cruUcv3"
      },
      "source": [
        "Our working dataset is ready with some facts about data already known due to EDA "
      ]
    },
    {
      "cell_type": "markdown",
      "metadata": {
        "id": "qJyMFlk4UZ7s"
      },
      "source": [
        "# Some Descriptive Analysis"
      ]
    },
    {
      "cell_type": "code",
      "metadata": {
        "colab": {
          "base_uri": "https://localhost:8080/",
          "height": 483
        },
        "id": "T8Y4bTM2VQ62",
        "outputId": "8a313b32-d724-4da3-dec1-fa509b1c920f"
      },
      "source": [
        "plt.rcParams['figure.figsize'] = 7,8\n",
        "labels = df2['status'].value_counts().index.tolist()\n",
        "sizes = df2['status'].value_counts().tolist()\n",
        "\n",
        "fig1, ax1 = plt.subplots()\n",
        "ax1.pie(sizes, labels=labels, startangle=90)\n",
        "ax1.axis('equal')\n",
        "plt.title(\"Current status of Start Up\", size = 'x-large')\n",
        "\n",
        "plt.show()"
      ],
      "execution_count": null,
      "outputs": [
        {
          "output_type": "display_data",
          "data": {
            "image/png": "[encoded data removed]",
            "text/plain": [
              "<Figure size 504x576 with 1 Axes>"
            ]
          },
          "metadata": {
            "tags": []
          }
        }
      ]
    },
    {
      "cell_type": "code",
      "metadata": {
        "colab": {
          "base_uri": "https://localhost:8080/",
          "height": 483
        },
        "id": "ISJ9oTqqW8yk",
        "outputId": "d0dd7d3a-ef73-468e-b4bc-e828278f507a"
      },
      "source": [
        "plt.rcParams['figure.figsize'] = 7,8\n",
        "labels = df2['category_code'].value_counts()[:10].index.tolist()\n",
        "sizes = df2['category_code'].value_counts()[:10].tolist()\n",
        "\n",
        "fig1, ax1 = plt.subplots()\n",
        "ax1.pie(sizes, labels=labels, startangle=90)\n",
        "ax1.axis('equal')\n",
        "plt.title(\"Top 10 Start-Up market category\", size = 'x-large')\n",
        "\n",
        "plt.show()"
      ],
      "execution_count": null,
      "outputs": [
        {
          "output_type": "display_data",
          "data": {
            "image/png": "[encoded data removed]",
            "text/plain": [
              "<Figure size 504x576 with 1 Axes>"
            ]
          },
          "metadata": {
            "tags": []
          }
        }
      ]
    },
    {
      "cell_type": "code",
      "metadata": {
        "colab": {
          "base_uri": "https://localhost:8080/",
          "height": 483
        },
        "id": "JLsXDSzHYcfD",
        "outputId": "8262ec23-53af-438f-fcaa-47fc14fd3811"
      },
      "source": [
        "plt.rcParams['figure.figsize'] = 7,8\n",
        "labels = df2['country_code'].value_counts()[:5].index.tolist()\n",
        "sizes = df2['country_code'].value_counts()[:5].tolist()\n",
        "\n",
        "fig1, ax1 = plt.subplots()\n",
        "ax1.pie(sizes, labels=labels, startangle=90)\n",
        "ax1.axis('equal')\n",
        "plt.title(\"Top 5 countries based on number of Startups\", size = 'x-large')\n",
        "\n",
        "plt.show()"
      ],
      "execution_count": null,
      "outputs": [
        {
          "output_type": "display_data",
          "data": {
            "image/png": "[encoded data removed]",
            "text/plain": [
              "<Figure size 504x576 with 1 Axes>"
            ]
          },
          "metadata": {
            "tags": []
          }
        }
      ]
    },
    {
      "cell_type": "code",
      "metadata": {
        "colab": {
          "base_uri": "https://localhost:8080/",
          "height": 507
        },
        "id": "mVYI4TdhXfsi",
        "outputId": "b2301098-0dea-4ce7-f370-17abc0f9bbf6"
      },
      "source": [
        "plt.rcParams['figure.figsize'] = 12,6\n",
        "\n",
        "height = df2['name'].value_counts()[:10].tolist()\n",
        "bars =  df2['name'].value_counts()[:10].index.tolist()\n",
        "y_pos = np.arange(len(bars))\n",
        "plt.bar(y_pos, height , width=0.7 ,color= ['c']+['paleturquoise']*14)\n",
        "plt.xticks(y_pos, bars)\n",
        "plt.xticks(rotation=90)\n",
        "plt.title(\"Top 10 Company names\", fontdict=None, position= [0.48,1.05], size = 'x-large')\n",
        "plt.show()"
      ],
      "execution_count": null,
      "outputs": [
        {
          "output_type": "display_data",
          "data": {
            "image/png": "[encoded data removed]",
            "text/plain": [
              "<Figure size 864x432 with 1 Axes>"
            ]
          },
          "metadata": {
            "tags": [],
            "needs_background": "light"
          }
        }
      ]
    },
    {
      "cell_type": "code",
      "metadata": {
        "id": "9ySUqGULffPZ"
      },
      "source": [
        "df2['count'] = 1\n",
        "country_market = df2[['count','country_code','category_code']].groupby(['country_code','category_code']).agg({'count': 'sum'})\n",
        "country_market_pct = country_market.groupby(level=0).apply(lambda x: 100 * x / float(x.sum()))\n",
        "country_market_pct.reset_index(inplace = True)"
      ],
      "execution_count": null,
      "outputs": []
    },
    {
      "cell_type": "code",
      "metadata": {
        "colab": {
          "base_uri": "https://localhost:8080/",
          "height": 594
        },
        "id": "XkDzqWbDfEbD",
        "outputId": "9df06d87-bfad-4574-f6c6-9ce68626fcfa"
      },
      "source": [
        "USA_market_pct = country_market_pct[country_market_pct['country_code'] == \"USA\"]\n",
        "USA_market_pct = USA_market_pct.sort_values('count',ascending = False)[0:10]\n",
        "\n",
        "plt.rcParams['figure.figsize'] =8,8\n",
        "labels = list(USA_market_pct['category_code'])+['Other...']\n",
        "sizes = list(USA_market_pct['count'])+[100-USA_market_pct['count'].sum()]\n",
        "colors =   ['teal', 'skyblue','aqua'] +['oldlace']*8\n",
        "\n",
        "plt.pie(sizes, colors = colors ,labels=labels, startangle=45)\n",
        "plt.axis('equal')\n",
        "plt.tight_layout()\n",
        "plt.title(\"USA start up market\", fontdict=None, position= [0.48,1.1], size = 'x-large')\n",
        "\n",
        "plt.show()"
      ],
      "execution_count": null,
      "outputs": [
        {
          "output_type": "display_data",
          "data": {
            "image/png": "[encoded data removed]",
            "text/plain": [
              "<Figure size 576x576 with 1 Axes>"
            ]
          },
          "metadata": {
            "tags": []
          }
        }
      ]
    },
    {
      "cell_type": "code",
      "metadata": {
        "colab": {
          "base_uri": "https://localhost:8080/",
          "height": 591
        },
        "id": "4gsFsgDff8l-",
        "outputId": "0f7a01d8-f7d2-49af-97d4-e58bd67622ff"
      },
      "source": [
        "IND_market_pct = country_market_pct[country_market_pct['country_code'] == \"IND\"]\n",
        "IND_market_pct = IND_market_pct.sort_values('count',ascending = False)[0:10]\n",
        "\n",
        "plt.rcParams['figure.figsize'] = 8,8\n",
        "labels = list(IND_market_pct['category_code'])+['Other...']\n",
        "sizes = list(IND_market_pct['count'])+[100-IND_market_pct['count'].sum()]\n",
        "colors =  ['teal', 'skyblue','aqua'] +['oldlace']*8\n",
        "\n",
        "plt.pie(sizes, colors = colors ,labels=labels, startangle=45)\n",
        "plt.axis('equal')\n",
        "plt.tight_layout()\n",
        "plt.title(\"INDIA start up market\", fontdict=None, position= [0.48,1.1], size = 'x-large')\n",
        "plt.show()"
      ],
      "execution_count": null,
      "outputs": [
        {
          "output_type": "display_data",
          "data": {
            "image/png": "[encoded data removed]",
            "text/plain": [
              "<Figure size 576x576 with 1 Axes>"
            ]
          },
          "metadata": {
            "tags": []
          }
        }
      ]
    },
    {
      "cell_type": "code",
      "metadata": {
        "id": "sURSKMNEhmA8"
      },
      "source": [
        ""
      ],
      "execution_count": null,
      "outputs": []
    },
    {
      "cell_type": "markdown",
      "metadata": {
        "id": "U91kIZMohnRi"
      },
      "source": [
        "# Some Predictive Analysis"
      ]
    },
    {
      "cell_type": "code",
      "metadata": {
        "colab": {
          "base_uri": "https://localhost:8080/",
          "height": 467
        },
        "id": "MtPKQjrBh0Ba",
        "outputId": "32558cd7-1f5d-497d-b73e-055d4d473fed"
      },
      "source": [
        "df2.to_csv('processed.csv', index=False, header=1)\n",
        "df3 = pd.read_csv(\"./processed.csv\", low_memory=False, parse_dates=[\"funded_at\"])\n",
        "df3.head()"
      ],
      "execution_count": null,
      "outputs": [
        {
          "output_type": "execute_result",
          "data": {
            "text/html": [
              "<div>\n",
              "<style scoped>\n",
              "    .dataframe tbody tr th:only-of-type {\n",
              "        vertical-align: middle;\n",
              "    }\n",
              "\n",
              "    .dataframe tbody tr th {\n",
              "        vertical-align: top;\n",
              "    }\n",
              "\n",
              "    .dataframe thead th {\n",
              "        text-align: right;\n",
              "    }\n",
              "</style>\n",
              "<table border=\"1\" class=\"dataframe\">\n",
              "  <thead>\n",
              "    <tr style=\"text-align: right;\">\n",
              "      <th></th>\n",
              "      <th>id</th>\n",
              "      <th>funding_round_id</th>\n",
              "      <th>funded_object_id</th>\n",
              "      <th>investor_object_id</th>\n",
              "      <th>entity_type</th>\n",
              "      <th>name</th>\n",
              "      <th>permalink</th>\n",
              "      <th>category_code</th>\n",
              "      <th>status</th>\n",
              "      <th>founded_at</th>\n",
              "      <th>description</th>\n",
              "      <th>country_code</th>\n",
              "      <th>first_funding_at</th>\n",
              "      <th>last_funding_at</th>\n",
              "      <th>funding_rounds</th>\n",
              "      <th>funding_total_usd</th>\n",
              "      <th>milestones</th>\n",
              "      <th>funded_at</th>\n",
              "      <th>funding_round_type</th>\n",
              "      <th>raised_amount_usd</th>\n",
              "      <th>count</th>\n",
              "    </tr>\n",
              "  </thead>\n",
              "  <tbody>\n",
              "    <tr>\n",
              "      <th>0</th>\n",
              "      <td>1</td>\n",
              "      <td>1</td>\n",
              "      <td>c:4</td>\n",
              "      <td>f:1</td>\n",
              "      <td>Company</td>\n",
              "      <td>Digg</td>\n",
              "      <td>/company/digg</td>\n",
              "      <td>news</td>\n",
              "      <td>acquired</td>\n",
              "      <td>2004-10-11</td>\n",
              "      <td>user driven social content website</td>\n",
              "      <td>USA</td>\n",
              "      <td>2005-10-01</td>\n",
              "      <td>2011-07-12</td>\n",
              "      <td>4</td>\n",
              "      <td>45000000.0</td>\n",
              "      <td>8</td>\n",
              "      <td>2006-12-01</td>\n",
              "      <td>series-b</td>\n",
              "      <td>8500000.0</td>\n",
              "      <td>1</td>\n",
              "    </tr>\n",
              "    <tr>\n",
              "      <th>1</th>\n",
              "      <td>1</td>\n",
              "      <td>1</td>\n",
              "      <td>c:4</td>\n",
              "      <td>f:1</td>\n",
              "      <td>Company</td>\n",
              "      <td>Digg</td>\n",
              "      <td>/company/digg</td>\n",
              "      <td>news</td>\n",
              "      <td>acquired</td>\n",
              "      <td>2004-10-11</td>\n",
              "      <td>user driven social content website</td>\n",
              "      <td>USA</td>\n",
              "      <td>2005-10-01</td>\n",
              "      <td>2011-07-12</td>\n",
              "      <td>4</td>\n",
              "      <td>45000000.0</td>\n",
              "      <td>8</td>\n",
              "      <td>2005-10-01</td>\n",
              "      <td>series-a</td>\n",
              "      <td>2800000.0</td>\n",
              "      <td>1</td>\n",
              "    </tr>\n",
              "    <tr>\n",
              "      <th>2</th>\n",
              "      <td>1</td>\n",
              "      <td>1</td>\n",
              "      <td>c:4</td>\n",
              "      <td>f:1</td>\n",
              "      <td>Company</td>\n",
              "      <td>Digg</td>\n",
              "      <td>/company/digg</td>\n",
              "      <td>news</td>\n",
              "      <td>acquired</td>\n",
              "      <td>2004-10-11</td>\n",
              "      <td>user driven social content website</td>\n",
              "      <td>USA</td>\n",
              "      <td>2005-10-01</td>\n",
              "      <td>2011-07-12</td>\n",
              "      <td>4</td>\n",
              "      <td>45000000.0</td>\n",
              "      <td>8</td>\n",
              "      <td>2008-09-24</td>\n",
              "      <td>series-c+</td>\n",
              "      <td>28700000.0</td>\n",
              "      <td>1</td>\n",
              "    </tr>\n",
              "    <tr>\n",
              "      <th>3</th>\n",
              "      <td>1</td>\n",
              "      <td>1</td>\n",
              "      <td>c:4</td>\n",
              "      <td>f:1</td>\n",
              "      <td>Company</td>\n",
              "      <td>Digg</td>\n",
              "      <td>/company/digg</td>\n",
              "      <td>news</td>\n",
              "      <td>acquired</td>\n",
              "      <td>2004-10-11</td>\n",
              "      <td>user driven social content website</td>\n",
              "      <td>USA</td>\n",
              "      <td>2005-10-01</td>\n",
              "      <td>2011-07-12</td>\n",
              "      <td>4</td>\n",
              "      <td>45000000.0</td>\n",
              "      <td>8</td>\n",
              "      <td>2011-07-12</td>\n",
              "      <td>series-c+</td>\n",
              "      <td>5000000.0</td>\n",
              "      <td>1</td>\n",
              "    </tr>\n",
              "    <tr>\n",
              "      <th>4</th>\n",
              "      <td>2</td>\n",
              "      <td>1</td>\n",
              "      <td>c:4</td>\n",
              "      <td>f:2</td>\n",
              "      <td>Company</td>\n",
              "      <td>Digg</td>\n",
              "      <td>/company/digg</td>\n",
              "      <td>news</td>\n",
              "      <td>acquired</td>\n",
              "      <td>2004-10-11</td>\n",
              "      <td>user driven social content website</td>\n",
              "      <td>USA</td>\n",
              "      <td>2005-10-01</td>\n",
              "      <td>2011-07-12</td>\n",
              "      <td>4</td>\n",
              "      <td>45000000.0</td>\n",
              "      <td>8</td>\n",
              "      <td>2006-12-01</td>\n",
              "      <td>series-b</td>\n",
              "      <td>8500000.0</td>\n",
              "      <td>1</td>\n",
              "    </tr>\n",
              "  </tbody>\n",
              "</table>\n",
              "</div>"
            ],
            "text/plain": [
              "   id  funding_round_id  ... raised_amount_usd count\n",
              "0   1                 1  ...         8500000.0     1\n",
              "1   1                 1  ...         2800000.0     1\n",
              "2   1                 1  ...        28700000.0     1\n",
              "3   1                 1  ...         5000000.0     1\n",
              "4   2                 1  ...         8500000.0     1\n",
              "\n",
              "[5 rows x 21 columns]"
            ]
          },
          "metadata": {
            "tags": []
          },
          "execution_count": 114
        }
      ]
    },
    {
      "cell_type": "code",
      "metadata": {
        "colab": {
          "base_uri": "https://localhost:8080/"
        },
        "id": "IZETHReHwRoj",
        "outputId": "5fe31b59-f4f9-4c64-d958-a4fc15e94979"
      },
      "source": [
        "for col in df3.columns.values:\n",
        "  list_vals = pd.unique(df3[col])\n",
        "  print(col + ' is of type ' + str(df3[col].dtypes) + ', has ' + str(len(list_vals)) + ' unique values')\n",
        "  if len(list_vals) < 10:\n",
        "    list_str = ''\n",
        "    for n_value in range(0,len(list_vals)):\n",
        "      list_str = list_str + str(list_vals[n_value]) + ', '\n",
        "    print('  These are: '+list_str[0:len(list_str)-2])\n",
        "  print('\\n')"
      ],
      "execution_count": null,
      "outputs": [
        {
          "output_type": "stream",
          "text": [
            "id is of type int64, has 52138 unique values\n",
            "\n",
            "\n",
            "funding_round_id is of type int64, has 19964 unique values\n",
            "\n",
            "\n",
            "funded_object_id is of type object, has 11368 unique values\n",
            "\n",
            "\n",
            "investor_object_id is of type object, has 12663 unique values\n",
            "\n",
            "\n",
            "entity_type is of type object, has 1 unique values\n",
            "  These are: Company\n",
            "\n",
            "\n",
            "name is of type object, has 11368 unique values\n",
            "\n",
            "\n",
            "permalink is of type object, has 11368 unique values\n",
            "\n",
            "\n",
            "category_code is of type object, has 42 unique values\n",
            "\n",
            "\n",
            "status is of type object, has 4 unique values\n",
            "  These are: acquired, ipo, operating, closed\n",
            "\n",
            "\n",
            "founded_at is of type object, has 1633 unique values\n",
            "\n",
            "\n",
            "description is of type object, has 10890 unique values\n",
            "\n",
            "\n",
            "country_code is of type object, has 94 unique values\n",
            "\n",
            "\n",
            "first_funding_at is of type object, has 2638 unique values\n",
            "\n",
            "\n",
            "last_funding_at is of type object, has 2265 unique values\n",
            "\n",
            "\n",
            "funding_rounds is of type int64, has 14 unique values\n",
            "\n",
            "\n",
            "funding_total_usd is of type float64, has 4096 unique values\n",
            "\n",
            "\n",
            "milestones is of type int64, has 10 unique values\n",
            "\n",
            "\n",
            "funded_at is of type datetime64[ns], has 2944 unique values\n",
            "\n",
            "\n",
            "funding_round_type is of type object, has 9 unique values\n",
            "  These are: series-b, series-a, series-c+, angel, other, venture, private-equity, post-ipo, crowdfunding\n",
            "\n",
            "\n",
            "raised_amount_usd is of type float64, has 4232 unique values\n",
            "\n",
            "\n",
            "count is of type int64, has 1 unique values\n",
            "  These are: 1\n",
            "\n",
            "\n"
          ],
          "name": "stdout"
        }
      ]
    },
    {
      "cell_type": "code",
      "metadata": {
        "colab": {
          "base_uri": "https://localhost:8080/",
          "height": 467
        },
        "id": "xFiFKEFSXyLb",
        "outputId": "7026404d-ff03-4f8d-9623-385c4ff96487"
      },
      "source": [
        "df3.head()"
      ],
      "execution_count": null,
      "outputs": [
        {
          "output_type": "execute_result",
          "data": {
            "text/html": [
              "<div>\n",
              "<style scoped>\n",
              "    .dataframe tbody tr th:only-of-type {\n",
              "        vertical-align: middle;\n",
              "    }\n",
              "\n",
              "    .dataframe tbody tr th {\n",
              "        vertical-align: top;\n",
              "    }\n",
              "\n",
              "    .dataframe thead th {\n",
              "        text-align: right;\n",
              "    }\n",
              "</style>\n",
              "<table border=\"1\" class=\"dataframe\">\n",
              "  <thead>\n",
              "    <tr style=\"text-align: right;\">\n",
              "      <th></th>\n",
              "      <th>id</th>\n",
              "      <th>funding_round_id</th>\n",
              "      <th>funded_object_id</th>\n",
              "      <th>investor_object_id</th>\n",
              "      <th>entity_type</th>\n",
              "      <th>name</th>\n",
              "      <th>permalink</th>\n",
              "      <th>category_code</th>\n",
              "      <th>status</th>\n",
              "      <th>founded_at</th>\n",
              "      <th>description</th>\n",
              "      <th>country_code</th>\n",
              "      <th>first_funding_at</th>\n",
              "      <th>last_funding_at</th>\n",
              "      <th>funding_rounds</th>\n",
              "      <th>funding_total_usd</th>\n",
              "      <th>milestones</th>\n",
              "      <th>funded_at</th>\n",
              "      <th>funding_round_type</th>\n",
              "      <th>raised_amount_usd</th>\n",
              "      <th>count</th>\n",
              "    </tr>\n",
              "  </thead>\n",
              "  <tbody>\n",
              "    <tr>\n",
              "      <th>0</th>\n",
              "      <td>1</td>\n",
              "      <td>1</td>\n",
              "      <td>c:4</td>\n",
              "      <td>f:1</td>\n",
              "      <td>Company</td>\n",
              "      <td>Digg</td>\n",
              "      <td>/company/digg</td>\n",
              "      <td>news</td>\n",
              "      <td>acquired</td>\n",
              "      <td>2004-10-11</td>\n",
              "      <td>user driven social content website</td>\n",
              "      <td>USA</td>\n",
              "      <td>2005-10-01</td>\n",
              "      <td>2011-07-12</td>\n",
              "      <td>4</td>\n",
              "      <td>45000000.0</td>\n",
              "      <td>8</td>\n",
              "      <td>2006-12-01</td>\n",
              "      <td>series-b</td>\n",
              "      <td>8500000.0</td>\n",
              "      <td>1</td>\n",
              "    </tr>\n",
              "    <tr>\n",
              "      <th>1</th>\n",
              "      <td>1</td>\n",
              "      <td>1</td>\n",
              "      <td>c:4</td>\n",
              "      <td>f:1</td>\n",
              "      <td>Company</td>\n",
              "      <td>Digg</td>\n",
              "      <td>/company/digg</td>\n",
              "      <td>news</td>\n",
              "      <td>acquired</td>\n",
              "      <td>2004-10-11</td>\n",
              "      <td>user driven social content website</td>\n",
              "      <td>USA</td>\n",
              "      <td>2005-10-01</td>\n",
              "      <td>2011-07-12</td>\n",
              "      <td>4</td>\n",
              "      <td>45000000.0</td>\n",
              "      <td>8</td>\n",
              "      <td>2005-10-01</td>\n",
              "      <td>series-a</td>\n",
              "      <td>2800000.0</td>\n",
              "      <td>1</td>\n",
              "    </tr>\n",
              "    <tr>\n",
              "      <th>2</th>\n",
              "      <td>1</td>\n",
              "      <td>1</td>\n",
              "      <td>c:4</td>\n",
              "      <td>f:1</td>\n",
              "      <td>Company</td>\n",
              "      <td>Digg</td>\n",
              "      <td>/company/digg</td>\n",
              "      <td>news</td>\n",
              "      <td>acquired</td>\n",
              "      <td>2004-10-11</td>\n",
              "      <td>user driven social content website</td>\n",
              "      <td>USA</td>\n",
              "      <td>2005-10-01</td>\n",
              "      <td>2011-07-12</td>\n",
              "      <td>4</td>\n",
              "      <td>45000000.0</td>\n",
              "      <td>8</td>\n",
              "      <td>2008-09-24</td>\n",
              "      <td>series-c+</td>\n",
              "      <td>28700000.0</td>\n",
              "      <td>1</td>\n",
              "    </tr>\n",
              "    <tr>\n",
              "      <th>3</th>\n",
              "      <td>1</td>\n",
              "      <td>1</td>\n",
              "      <td>c:4</td>\n",
              "      <td>f:1</td>\n",
              "      <td>Company</td>\n",
              "      <td>Digg</td>\n",
              "      <td>/company/digg</td>\n",
              "      <td>news</td>\n",
              "      <td>acquired</td>\n",
              "      <td>2004-10-11</td>\n",
              "      <td>user driven social content website</td>\n",
              "      <td>USA</td>\n",
              "      <td>2005-10-01</td>\n",
              "      <td>2011-07-12</td>\n",
              "      <td>4</td>\n",
              "      <td>45000000.0</td>\n",
              "      <td>8</td>\n",
              "      <td>2011-07-12</td>\n",
              "      <td>series-c+</td>\n",
              "      <td>5000000.0</td>\n",
              "      <td>1</td>\n",
              "    </tr>\n",
              "    <tr>\n",
              "      <th>4</th>\n",
              "      <td>2</td>\n",
              "      <td>1</td>\n",
              "      <td>c:4</td>\n",
              "      <td>f:2</td>\n",
              "      <td>Company</td>\n",
              "      <td>Digg</td>\n",
              "      <td>/company/digg</td>\n",
              "      <td>news</td>\n",
              "      <td>acquired</td>\n",
              "      <td>2004-10-11</td>\n",
              "      <td>user driven social content website</td>\n",
              "      <td>USA</td>\n",
              "      <td>2005-10-01</td>\n",
              "      <td>2011-07-12</td>\n",
              "      <td>4</td>\n",
              "      <td>45000000.0</td>\n",
              "      <td>8</td>\n",
              "      <td>2006-12-01</td>\n",
              "      <td>series-b</td>\n",
              "      <td>8500000.0</td>\n",
              "      <td>1</td>\n",
              "    </tr>\n",
              "  </tbody>\n",
              "</table>\n",
              "</div>"
            ],
            "text/plain": [
              "   id  funding_round_id  ... raised_amount_usd count\n",
              "0   1                 1  ...         8500000.0     1\n",
              "1   1                 1  ...         2800000.0     1\n",
              "2   1                 1  ...        28700000.0     1\n",
              "3   1                 1  ...         5000000.0     1\n",
              "4   2                 1  ...         8500000.0     1\n",
              "\n",
              "[5 rows x 21 columns]"
            ]
          },
          "metadata": {
            "tags": []
          },
          "execution_count": 116
        }
      ]
    },
    {
      "cell_type": "markdown",
      "metadata": {
        "id": "UNwDdn1Kb1Wf"
      },
      "source": [
        "--\n",
        "Preparing another dataframe to carry out Regression\n",
        "--"
      ]
    },
    {
      "cell_type": "code",
      "metadata": {
        "id": "zIxlBHeBx1Gr"
      },
      "source": [
        "df3[\"saleYear\"] = df3.funded_at.dt.year\n",
        "df3[\"saleMonth\"] = df3.funded_at.dt.month\n",
        "df3[\"saleDay\"] = df3.funded_at.dt.day\n",
        "df3[\"saleDayOfWeek\"] = df3.funded_at.dt.dayofweek"
      ],
      "execution_count": null,
      "outputs": []
    },
    {
      "cell_type": "code",
      "metadata": {
        "id": "VEghZuVFXIgB"
      },
      "source": [
        "df3['funding_till_date'] = df3['funding_total_usd'] - df3['raised_amount_usd']"
      ],
      "execution_count": null,
      "outputs": []
    },
    {
      "cell_type": "code",
      "metadata": {
        "id": "DVe4_Fo8Vin3"
      },
      "source": [
        "df4 = df3[[ 'id', 'funding_round_id', 'investor_object_id', 'category_code', 'status', 'country_code', 'funded_object_id', 'funding_rounds', 'milestones', 'funding_round_type', 'funding_till_date', 'saleYear', 'saleMonth', 'saleDay', 'saleDayOfWeek', 'raised_amount_usd' ]]\n",
        "df5 = df4.copy()"
      ],
      "execution_count": null,
      "outputs": []
    },
    {
      "cell_type": "code",
      "metadata": {
        "id": "rFyJETgIZmMo"
      },
      "source": [
        "for label, content in df5.items():\n",
        "    if pd.api.types.is_string_dtype(content):\n",
        "        df5[label] = content.astype(\"category\").cat.as_ordered()"
      ],
      "execution_count": null,
      "outputs": []
    },
    {
      "cell_type": "code",
      "metadata": {
        "id": "rW5FnxGjZrQC"
      },
      "source": [
        "for label, content in df5.items():\n",
        "    if not pd.api.types.is_numeric_dtype(content):\n",
        "        # Add binary column to indicate whether sample had missing value\n",
        "        df5[label+\"_is_missing\"] = pd.isnull(content)\n",
        "        # Turn categories into numbers and add +1\n",
        "        df5[label] = pd.Categorical(content).codes+1"
      ],
      "execution_count": null,
      "outputs": []
    },
    {
      "cell_type": "code",
      "metadata": {
        "colab": {
          "base_uri": "https://localhost:8080/",
          "height": 214
        },
        "id": "3HqBRzrqdFa_",
        "outputId": "d8ae5c0b-abb6-4513-c0f2-be5d69242fb6"
      },
      "source": [
        "df5.head()"
      ],
      "execution_count": null,
      "outputs": [
        {
          "output_type": "execute_result",
          "data": {
            "text/html": [
              "<div>\n",
              "<style scoped>\n",
              "    .dataframe tbody tr th:only-of-type {\n",
              "        vertical-align: middle;\n",
              "    }\n",
              "\n",
              "    .dataframe tbody tr th {\n",
              "        vertical-align: top;\n",
              "    }\n",
              "\n",
              "    .dataframe thead th {\n",
              "        text-align: right;\n",
              "    }\n",
              "</style>\n",
              "<table border=\"1\" class=\"dataframe\">\n",
              "  <thead>\n",
              "    <tr style=\"text-align: right;\">\n",
              "      <th></th>\n",
              "      <th>id</th>\n",
              "      <th>funding_round_id</th>\n",
              "      <th>investor_object_id</th>\n",
              "      <th>category_code</th>\n",
              "      <th>status</th>\n",
              "      <th>country_code</th>\n",
              "      <th>funded_object_id</th>\n",
              "      <th>funding_rounds</th>\n",
              "      <th>milestones</th>\n",
              "      <th>funding_round_type</th>\n",
              "      <th>funding_till_date</th>\n",
              "      <th>saleYear</th>\n",
              "      <th>saleMonth</th>\n",
              "      <th>saleDay</th>\n",
              "      <th>saleDayOfWeek</th>\n",
              "      <th>raised_amount_usd</th>\n",
              "      <th>investor_object_id_is_missing</th>\n",
              "      <th>category_code_is_missing</th>\n",
              "      <th>status_is_missing</th>\n",
              "      <th>country_code_is_missing</th>\n",
              "      <th>funded_object_id_is_missing</th>\n",
              "      <th>funding_round_type_is_missing</th>\n",
              "    </tr>\n",
              "  </thead>\n",
              "  <tbody>\n",
              "    <tr>\n",
              "      <th>0</th>\n",
              "      <td>1</td>\n",
              "      <td>1</td>\n",
              "      <td>1889</td>\n",
              "      <td>27</td>\n",
              "      <td>1</td>\n",
              "      <td>91</td>\n",
              "      <td>7433</td>\n",
              "      <td>4</td>\n",
              "      <td>8</td>\n",
              "      <td>7</td>\n",
              "      <td>36500000.0</td>\n",
              "      <td>2006</td>\n",
              "      <td>12</td>\n",
              "      <td>1</td>\n",
              "      <td>4</td>\n",
              "      <td>8500000.0</td>\n",
              "      <td>False</td>\n",
              "      <td>False</td>\n",
              "      <td>False</td>\n",
              "      <td>False</td>\n",
              "      <td>False</td>\n",
              "      <td>False</td>\n",
              "    </tr>\n",
              "    <tr>\n",
              "      <th>1</th>\n",
              "      <td>1</td>\n",
              "      <td>1</td>\n",
              "      <td>1889</td>\n",
              "      <td>27</td>\n",
              "      <td>1</td>\n",
              "      <td>91</td>\n",
              "      <td>7433</td>\n",
              "      <td>4</td>\n",
              "      <td>8</td>\n",
              "      <td>6</td>\n",
              "      <td>42200000.0</td>\n",
              "      <td>2005</td>\n",
              "      <td>10</td>\n",
              "      <td>1</td>\n",
              "      <td>5</td>\n",
              "      <td>2800000.0</td>\n",
              "      <td>False</td>\n",
              "      <td>False</td>\n",
              "      <td>False</td>\n",
              "      <td>False</td>\n",
              "      <td>False</td>\n",
              "      <td>False</td>\n",
              "    </tr>\n",
              "    <tr>\n",
              "      <th>2</th>\n",
              "      <td>1</td>\n",
              "      <td>1</td>\n",
              "      <td>1889</td>\n",
              "      <td>27</td>\n",
              "      <td>1</td>\n",
              "      <td>91</td>\n",
              "      <td>7433</td>\n",
              "      <td>4</td>\n",
              "      <td>8</td>\n",
              "      <td>8</td>\n",
              "      <td>16300000.0</td>\n",
              "      <td>2008</td>\n",
              "      <td>9</td>\n",
              "      <td>24</td>\n",
              "      <td>2</td>\n",
              "      <td>28700000.0</td>\n",
              "      <td>False</td>\n",
              "      <td>False</td>\n",
              "      <td>False</td>\n",
              "      <td>False</td>\n",
              "      <td>False</td>\n",
              "      <td>False</td>\n",
              "    </tr>\n",
              "    <tr>\n",
              "      <th>3</th>\n",
              "      <td>1</td>\n",
              "      <td>1</td>\n",
              "      <td>1889</td>\n",
              "      <td>27</td>\n",
              "      <td>1</td>\n",
              "      <td>91</td>\n",
              "      <td>7433</td>\n",
              "      <td>4</td>\n",
              "      <td>8</td>\n",
              "      <td>8</td>\n",
              "      <td>40000000.0</td>\n",
              "      <td>2011</td>\n",
              "      <td>7</td>\n",
              "      <td>12</td>\n",
              "      <td>1</td>\n",
              "      <td>5000000.0</td>\n",
              "      <td>False</td>\n",
              "      <td>False</td>\n",
              "      <td>False</td>\n",
              "      <td>False</td>\n",
              "      <td>False</td>\n",
              "      <td>False</td>\n",
              "    </tr>\n",
              "    <tr>\n",
              "      <th>4</th>\n",
              "      <td>2</td>\n",
              "      <td>1</td>\n",
              "      <td>3478</td>\n",
              "      <td>27</td>\n",
              "      <td>1</td>\n",
              "      <td>91</td>\n",
              "      <td>7433</td>\n",
              "      <td>4</td>\n",
              "      <td>8</td>\n",
              "      <td>7</td>\n",
              "      <td>36500000.0</td>\n",
              "      <td>2006</td>\n",
              "      <td>12</td>\n",
              "      <td>1</td>\n",
              "      <td>4</td>\n",
              "      <td>8500000.0</td>\n",
              "      <td>False</td>\n",
              "      <td>False</td>\n",
              "      <td>False</td>\n",
              "      <td>False</td>\n",
              "      <td>False</td>\n",
              "      <td>False</td>\n",
              "    </tr>\n",
              "  </tbody>\n",
              "</table>\n",
              "</div>"
            ],
            "text/plain": [
              "   id  ...  funding_round_type_is_missing\n",
              "0   1  ...                          False\n",
              "1   1  ...                          False\n",
              "2   1  ...                          False\n",
              "3   1  ...                          False\n",
              "4   2  ...                          False\n",
              "\n",
              "[5 rows x 22 columns]"
            ]
          },
          "metadata": {
            "tags": []
          },
          "execution_count": 122
        }
      ]
    },
    {
      "cell_type": "code",
      "metadata": {
        "colab": {
          "base_uri": "https://localhost:8080/"
        },
        "id": "j_tBV0cXGhKN",
        "outputId": "214e2209-fca4-47b1-a7e1-ea85fa4c3bec"
      },
      "source": [
        "df5.info()"
      ],
      "execution_count": null,
      "outputs": [
        {
          "output_type": "stream",
          "text": [
            "<class 'pandas.core.frame.DataFrame'>\n",
            "RangeIndex: 162966 entries, 0 to 162965\n",
            "Data columns (total 22 columns):\n",
            " #   Column                         Non-Null Count   Dtype  \n",
            "---  ------                         --------------   -----  \n",
            " 0   id                             162966 non-null  int64  \n",
            " 1   funding_round_id               162966 non-null  int64  \n",
            " 2   investor_object_id             162966 non-null  int16  \n",
            " 3   category_code                  162966 non-null  int8   \n",
            " 4   status                         162966 non-null  int8   \n",
            " 5   country_code                   162966 non-null  int8   \n",
            " 6   funded_object_id               162966 non-null  int16  \n",
            " 7   funding_rounds                 162966 non-null  int64  \n",
            " 8   milestones                     162966 non-null  int64  \n",
            " 9   funding_round_type             162966 non-null  int8   \n",
            " 10  funding_till_date              162966 non-null  float64\n",
            " 11  saleYear                       162966 non-null  int64  \n",
            " 12  saleMonth                      162966 non-null  int64  \n",
            " 13  saleDay                        162966 non-null  int64  \n",
            " 14  saleDayOfWeek                  162966 non-null  int64  \n",
            " 15  raised_amount_usd              162966 non-null  float64\n",
            " 16  investor_object_id_is_missing  162966 non-null  bool   \n",
            " 17  category_code_is_missing       162966 non-null  bool   \n",
            " 18  status_is_missing              162966 non-null  bool   \n",
            " 19  country_code_is_missing        162966 non-null  bool   \n",
            " 20  funded_object_id_is_missing    162966 non-null  bool   \n",
            " 21  funding_round_type_is_missing  162966 non-null  bool   \n",
            "dtypes: bool(6), float64(2), int16(2), int64(8), int8(4)\n",
            "memory usage: 14.6 MB\n"
          ],
          "name": "stdout"
        }
      ]
    },
    {
      "cell_type": "code",
      "metadata": {
        "colab": {
          "base_uri": "https://localhost:8080/"
        },
        "id": "Sm0dZ-t3ZDxe",
        "outputId": "036d4a49-075b-4378-a690-8b63c590b4a0"
      },
      "source": [
        "X = df5.drop(columns = ['raised_amount_usd', 'saleYear'])\n",
        "Y = df3[[\"raised_amount_usd\"]]\n",
        "print(X.shape,Y.shape)"
      ],
      "execution_count": null,
      "outputs": [
        {
          "output_type": "stream",
          "text": [
            "(162966, 20) (162966, 1)\n"
          ],
          "name": "stdout"
        }
      ]
    },
    {
      "cell_type": "code",
      "metadata": {
        "id": "-mCPf2MGY6tD"
      },
      "source": [
        "X_train,X_test,Y_train,Y_test = train_test_split(X,Y,test_size = 0.15)"
      ],
      "execution_count": null,
      "outputs": []
    },
    {
      "cell_type": "code",
      "metadata": {
        "id": "O_w5Mav_eI4v"
      },
      "source": [
        "x = X_train.values\n",
        "min_max_scaler = preprocessing.MinMaxScaler()\n",
        "x_scaled = min_max_scaler.fit_transform(x)\n",
        "X_train = pd.DataFrame(x_scaled)\n",
        "\n",
        "x = X_test.values\n",
        "min_max_scaler = preprocessing.MinMaxScaler()\n",
        "x_scaled = min_max_scaler.fit_transform(x)\n",
        "X_test = pd.DataFrame(x_scaled)"
      ],
      "execution_count": null,
      "outputs": []
    },
    {
      "cell_type": "code",
      "metadata": {
        "colab": {
          "base_uri": "https://localhost:8080/"
        },
        "id": "Uc6CFgXYeaIY",
        "outputId": "9804941c-a730-4a4b-862e-87944ad80f39"
      },
      "source": [
        "RF = RandomForestRegressor()\n",
        "RF.fit(X_train, Y_train)"
      ],
      "execution_count": null,
      "outputs": [
        {
          "output_type": "stream",
          "text": [
            "/usr/local/lib/python3.6/dist-packages/ipykernel_launcher.py:2: DataConversionWarning: A column-vector y was passed when a 1d array was expected. Please change the shape of y to (n_samples,), for example using ravel().\n",
            "  \n"
          ],
          "name": "stderr"
        },
        {
          "output_type": "execute_result",
          "data": {
            "text/plain": [
              "RandomForestRegressor(bootstrap=True, ccp_alpha=0.0, criterion='mse',\n",
              "                      max_depth=None, max_features='auto', max_leaf_nodes=None,\n",
              "                      max_samples=None, min_impurity_decrease=0.0,\n",
              "                      min_impurity_split=None, min_samples_leaf=1,\n",
              "                      min_samples_split=2, min_weight_fraction_leaf=0.0,\n",
              "                      n_estimators=100, n_jobs=None, oob_score=False,\n",
              "                      random_state=None, verbose=0, warm_start=False)"
            ]
          },
          "metadata": {
            "tags": []
          },
          "execution_count": 127
        }
      ]
    },
    {
      "cell_type": "code",
      "metadata": {
        "colab": {
          "base_uri": "https://localhost:8080/"
        },
        "id": "booUDqs_e52_",
        "outputId": "57754ea1-773b-4c3f-ebea-4dcb9c37f359"
      },
      "source": [
        "print('Test MAE error is', mean_absolute_error(Y_test, RF.predict(X_test)))\n",
        "print('Test r2 score is', RF.score(X_test, Y_test))\n",
        "print('Train r2 score is', RF.score(X_train, Y_train))"
      ],
      "execution_count": null,
      "outputs": [
        {
          "output_type": "stream",
          "text": [
            "Test MAE error is 689481.8446346902\n",
            "Test r2 score is 0.9910657746843431\n",
            "Train r2 score is 0.9977623877776385\n"
          ],
          "name": "stdout"
        }
      ]
    }
  ]
}